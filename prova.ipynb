{
 "cells": [
  {
   "cell_type": "code",
   "execution_count": 2,
   "metadata": {},
   "outputs": [],
   "source": [
    "import numpy as np\n",
    "import seaborn as sns\n",
    "import matplotlib.pyplot as plt\n",
    "import statsmodels.api as sm\n",
    "import scipy.stats as stats\n",
    "from scipy.stats import anderson"
   ]
  },
  {
   "cell_type": "code",
   "execution_count": 3,
   "metadata": {},
   "outputs": [],
   "source": [
    "df=sns.load_dataset(\"penguins\")\n",
    "df.columns = [\"Species\", \"Island\", \"Bill_Length(mm)\", \"Bill_Depth(mm)\", \"Flipper_Length(mm)\", \"Body_Mass(g)\", \"Sex\"]\n"
   ]
  },
  {
   "cell_type": "code",
   "execution_count": 4,
   "metadata": {},
   "outputs": [
    {
     "data": {
      "text/plain": [
       "Species\n",
       "Adelie       152\n",
       "Gentoo       124\n",
       "Chinstrap     68\n",
       "Name: count, dtype: int64"
      ]
     },
     "execution_count": 4,
     "metadata": {},
     "output_type": "execute_result"
    }
   ],
   "source": [
    "df['Species'].value_counts()"
   ]
  },
  {
   "cell_type": "code",
   "execution_count": 5,
   "metadata": {},
   "outputs": [],
   "source": [
    "# handling missing value \n",
    "# Import the SimpleImputer class from scikit-learn's impute module\n",
    "from sklearn.impute import SimpleImputer\n",
    "# Create an instance of SimpleImputer with the 'most_frequent' strategy\n",
    "imputer = SimpleImputer(strategy='most_frequent')\n",
    "# Use the imputer to fill missing values in the DataFrame 'df'\n",
    "df.iloc[:,:] = imputer.fit_transform(df)"
   ]
  },
  {
   "cell_type": "code",
   "execution_count": 6,
   "metadata": {},
   "outputs": [],
   "source": [
    "chinstrap = df.loc[df['Species'] == 'Chinstrap']\n",
    "adelie  = df.loc[df['Species'] == 'Adelie']\n",
    "gentoo = df.loc[df['Species'] == 'Gentoo']\n"
   ]
  },
  {
   "cell_type": "code",
   "execution_count": 7,
   "metadata": {},
   "outputs": [
    {
     "data": {
      "text/html": [
       "<div>\n",
       "<style scoped>\n",
       "    .dataframe tbody tr th:only-of-type {\n",
       "        vertical-align: middle;\n",
       "    }\n",
       "\n",
       "    .dataframe tbody tr th {\n",
       "        vertical-align: top;\n",
       "    }\n",
       "\n",
       "    .dataframe thead th {\n",
       "        text-align: right;\n",
       "    }\n",
       "</style>\n",
       "<table border=\"1\" class=\"dataframe\">\n",
       "  <thead>\n",
       "    <tr style=\"text-align: right;\">\n",
       "      <th></th>\n",
       "      <th>Species</th>\n",
       "      <th>Island</th>\n",
       "      <th>Bill_Length(mm)</th>\n",
       "      <th>Bill_Depth(mm)</th>\n",
       "      <th>Flipper_Length(mm)</th>\n",
       "      <th>Body_Mass(g)</th>\n",
       "      <th>Sex</th>\n",
       "    </tr>\n",
       "  </thead>\n",
       "  <tbody>\n",
       "    <tr>\n",
       "      <th>0</th>\n",
       "      <td>Adelie</td>\n",
       "      <td>Torgersen</td>\n",
       "      <td>39.1</td>\n",
       "      <td>18.7</td>\n",
       "      <td>181.0</td>\n",
       "      <td>3750.0</td>\n",
       "      <td>Male</td>\n",
       "    </tr>\n",
       "    <tr>\n",
       "      <th>1</th>\n",
       "      <td>Adelie</td>\n",
       "      <td>Torgersen</td>\n",
       "      <td>39.5</td>\n",
       "      <td>17.4</td>\n",
       "      <td>186.0</td>\n",
       "      <td>3800.0</td>\n",
       "      <td>Female</td>\n",
       "    </tr>\n",
       "    <tr>\n",
       "      <th>2</th>\n",
       "      <td>Adelie</td>\n",
       "      <td>Torgersen</td>\n",
       "      <td>40.3</td>\n",
       "      <td>18.0</td>\n",
       "      <td>195.0</td>\n",
       "      <td>3250.0</td>\n",
       "      <td>Female</td>\n",
       "    </tr>\n",
       "    <tr>\n",
       "      <th>3</th>\n",
       "      <td>Adelie</td>\n",
       "      <td>Torgersen</td>\n",
       "      <td>41.1</td>\n",
       "      <td>17.0</td>\n",
       "      <td>190.0</td>\n",
       "      <td>3800.0</td>\n",
       "      <td>Male</td>\n",
       "    </tr>\n",
       "    <tr>\n",
       "      <th>4</th>\n",
       "      <td>Adelie</td>\n",
       "      <td>Torgersen</td>\n",
       "      <td>36.7</td>\n",
       "      <td>19.3</td>\n",
       "      <td>193.0</td>\n",
       "      <td>3450.0</td>\n",
       "      <td>Female</td>\n",
       "    </tr>\n",
       "    <tr>\n",
       "      <th>...</th>\n",
       "      <td>...</td>\n",
       "      <td>...</td>\n",
       "      <td>...</td>\n",
       "      <td>...</td>\n",
       "      <td>...</td>\n",
       "      <td>...</td>\n",
       "      <td>...</td>\n",
       "    </tr>\n",
       "    <tr>\n",
       "      <th>147</th>\n",
       "      <td>Adelie</td>\n",
       "      <td>Dream</td>\n",
       "      <td>36.6</td>\n",
       "      <td>18.4</td>\n",
       "      <td>184.0</td>\n",
       "      <td>3475.0</td>\n",
       "      <td>Female</td>\n",
       "    </tr>\n",
       "    <tr>\n",
       "      <th>148</th>\n",
       "      <td>Adelie</td>\n",
       "      <td>Dream</td>\n",
       "      <td>36.0</td>\n",
       "      <td>17.8</td>\n",
       "      <td>195.0</td>\n",
       "      <td>3450.0</td>\n",
       "      <td>Female</td>\n",
       "    </tr>\n",
       "    <tr>\n",
       "      <th>149</th>\n",
       "      <td>Adelie</td>\n",
       "      <td>Dream</td>\n",
       "      <td>37.8</td>\n",
       "      <td>18.1</td>\n",
       "      <td>193.0</td>\n",
       "      <td>3750.0</td>\n",
       "      <td>Male</td>\n",
       "    </tr>\n",
       "    <tr>\n",
       "      <th>150</th>\n",
       "      <td>Adelie</td>\n",
       "      <td>Dream</td>\n",
       "      <td>36.0</td>\n",
       "      <td>17.1</td>\n",
       "      <td>187.0</td>\n",
       "      <td>3700.0</td>\n",
       "      <td>Female</td>\n",
       "    </tr>\n",
       "    <tr>\n",
       "      <th>151</th>\n",
       "      <td>Adelie</td>\n",
       "      <td>Dream</td>\n",
       "      <td>41.5</td>\n",
       "      <td>18.5</td>\n",
       "      <td>201.0</td>\n",
       "      <td>4000.0</td>\n",
       "      <td>Male</td>\n",
       "    </tr>\n",
       "  </tbody>\n",
       "</table>\n",
       "<p>152 rows × 7 columns</p>\n",
       "</div>"
      ],
      "text/plain": [
       "    Species     Island  Bill_Length(mm)  Bill_Depth(mm)  Flipper_Length(mm)  \\\n",
       "0    Adelie  Torgersen             39.1            18.7               181.0   \n",
       "1    Adelie  Torgersen             39.5            17.4               186.0   \n",
       "2    Adelie  Torgersen             40.3            18.0               195.0   \n",
       "3    Adelie  Torgersen             41.1            17.0               190.0   \n",
       "4    Adelie  Torgersen             36.7            19.3               193.0   \n",
       "..      ...        ...              ...             ...                 ...   \n",
       "147  Adelie      Dream             36.6            18.4               184.0   \n",
       "148  Adelie      Dream             36.0            17.8               195.0   \n",
       "149  Adelie      Dream             37.8            18.1               193.0   \n",
       "150  Adelie      Dream             36.0            17.1               187.0   \n",
       "151  Adelie      Dream             41.5            18.5               201.0   \n",
       "\n",
       "     Body_Mass(g)     Sex  \n",
       "0          3750.0    Male  \n",
       "1          3800.0  Female  \n",
       "2          3250.0  Female  \n",
       "3          3800.0    Male  \n",
       "4          3450.0  Female  \n",
       "..            ...     ...  \n",
       "147        3475.0  Female  \n",
       "148        3450.0  Female  \n",
       "149        3750.0    Male  \n",
       "150        3700.0  Female  \n",
       "151        4000.0    Male  \n",
       "\n",
       "[152 rows x 7 columns]"
      ]
     },
     "execution_count": 7,
     "metadata": {},
     "output_type": "execute_result"
    }
   ],
   "source": [
    "adelie"
   ]
  },
  {
   "cell_type": "code",
   "execution_count": 8,
   "metadata": {},
   "outputs": [
    {
     "name": "stderr",
     "output_type": "stream",
     "text": [
      "c:\\Users\\anton\\anaconda3\\Lib\\site-packages\\seaborn\\_oldcore.py:1498: FutureWarning: is_categorical_dtype is deprecated and will be removed in a future version. Use isinstance(dtype, CategoricalDtype) instead\n",
      "  if pd.api.types.is_categorical_dtype(vector):\n",
      "c:\\Users\\anton\\anaconda3\\Lib\\site-packages\\seaborn\\_oldcore.py:1119: FutureWarning: use_inf_as_na option is deprecated and will be removed in a future version. Convert inf values to NaN before operating instead.\n",
      "  with pd.option_context('mode.use_inf_as_na', True):\n",
      "c:\\Users\\anton\\anaconda3\\Lib\\site-packages\\seaborn\\_oldcore.py:1498: FutureWarning: is_categorical_dtype is deprecated and will be removed in a future version. Use isinstance(dtype, CategoricalDtype) instead\n",
      "  if pd.api.types.is_categorical_dtype(vector):\n",
      "c:\\Users\\anton\\anaconda3\\Lib\\site-packages\\seaborn\\_oldcore.py:1119: FutureWarning: use_inf_as_na option is deprecated and will be removed in a future version. Convert inf values to NaN before operating instead.\n",
      "  with pd.option_context('mode.use_inf_as_na', True):\n",
      "c:\\Users\\anton\\anaconda3\\Lib\\site-packages\\seaborn\\_oldcore.py:1498: FutureWarning: is_categorical_dtype is deprecated and will be removed in a future version. Use isinstance(dtype, CategoricalDtype) instead\n",
      "  if pd.api.types.is_categorical_dtype(vector):\n",
      "c:\\Users\\anton\\anaconda3\\Lib\\site-packages\\seaborn\\_oldcore.py:1119: FutureWarning: use_inf_as_na option is deprecated and will be removed in a future version. Convert inf values to NaN before operating instead.\n",
      "  with pd.option_context('mode.use_inf_as_na', True):\n"
     ]
    },
    {
     "data": {
      "image/png": "[encoded data removed]",
      "text/plain": [
       "<Figure size 1200x600 with 3 Axes>"
      ]
     },
     "metadata": {},
     "output_type": "display_data"
    }
   ],
   "source": [
    "import matplotlib.pyplot as plt\n",
    "import seaborn as sns\n",
    "\n",
    "# Check distribution for \"Body_Mass(g)\"\n",
    "# Define the variable as a selection of the DataFrame\n",
    "chinstrap_Body_Mass = chinstrap['Body_Mass(g)']\n",
    "adelie_Body_Mass = adelie['Body_Mass(g)']\n",
    "gentoo_Body_Mass = gentoo['Body_Mass(g)']\n",
    "\n",
    "# Create a figure\n",
    "fig, axes = plt.subplots(1, 3, figsize=(12, 6))\n",
    "\n",
    "# Histogram for Chinstrap\n",
    "sns.histplot(chinstrap_Body_Mass, bins=100, kde=True, color='blue', ax=axes[0])\n",
    "axes[0].set_title(\"Chinstrap Histogram with KDE\")\n",
    "axes[0].set_xlabel(\"Value\")\n",
    "axes[0].set_ylabel(\"Frequency\")\n",
    "\n",
    "# Histogram for Adelie\n",
    "sns.histplot(adelie_Body_Mass, bins=100, kde=True, color='orange', ax=axes[1])\n",
    "axes[1].set_title(\"Adelie Histogram with KDE\")\n",
    "axes[1].set_xlabel(\"Value\")\n",
    "axes[1].set_ylabel(\"Frequency\")\n",
    "\n",
    "# Histogram for Gentoo\n",
    "sns.histplot(gentoo_Body_Mass, bins=100, kde=True, color='red', ax=axes[2])\n",
    "axes[2].set_title(\"Gentoo Histogram with KDE\")\n",
    "axes[2].set_xlabel(\"Value\")\n",
    "axes[2].set_ylabel(\"Frequency\")\n",
    "\n",
    "plt.tight_layout()\n",
    "plt.show()"
   ]
  },
  {
   "cell_type": "markdown",
   "metadata": {},
   "source": []
  },
  {
   "cell_type": "code",
   "execution_count": null,
   "metadata": {},
   "outputs": [],
   "source": [
    "import scipy.stats as stats\n",
    "\n",
    "# https://www.geeksforgeeks.org/how-to-perform-a-shapiro-wilk-test-in-python/\n",
    "alpha = 0.05\n",
    "print('\\033[1m' + 'Shapiro Normalization test for Chrinstop Body Mass Variabe' + '\\033[0m')\n",
    "statistic, p_value = stats.shapiro(chinstrap_Body_Mass)\n",
    "print(f'The p_value of Chrinstop is {p_value}')\n",
    "if p_value > alpha:\n",
    "    print(f'The data of Chrinstop appears to be normally distributed'+'\\n')\n",
    "else:\n",
    "    print(\"The data of Chrinstop does not appear to be normally distributed\"+'\\n')\n",
    "      \n",
    "statistic, p_value = stats.shapiro(adelie_Body_Mass)\n",
    "print('\\033[1m' + 'Shapire Normalization test for Adelie Body Mass Variabe' + '\\033[0m')\n",
    "print(f'The p_value of Adelie is {p_value}')\n",
    "if p_value > alpha:\n",
    "    print(f'The data of Adelie appears to be normally distributed'+'\\n')\n",
    "else:\n",
    "    print(\"The data of Adelie does not appear to be normally distributed\"+'\\n')\n",
    "    \n",
    "statistic, p_value = stats.shapiro(gentoo_Body_Mass )\n",
    "print('\\033[1m' + 'Shapire Normalization test for Gentoo Body Mass Variabe' + '\\033[0m')\n",
    "print(f'The p_value of Gentoo is {p_value}')\n",
    "if p_value > alpha:\n",
    "    print(f'The data of Gentoo appears to be normally distributed'+'\\n')\n",
    "else:\n",
    "    print(\"The data of Gentoo does not appear to be normally distributed\"+'\\n')\n",
    "    \n",
    "    "
   ]
  },
  {
   "cell_type": "code",
   "execution_count": null,
   "metadata": {},
   "outputs": [],
   "source": [
    "from distfit import distfit\n",
    "\n",
    "# Initialize distfit\n",
    "dist_gentoo_BM = distfit(bins=50, smooth=10)\n",
    "\n",
    "# Determine best-fitting probability distribution for data\n",
    "dist_gentoo_BM.fit_transform(gentoo_Body_Mass)\n",
    "# Print summary of evaluated distributions\n",
    "print(dist_gentoo_BM.summary)"
   ]
  },
  {
   "cell_type": "code",
   "execution_count": null,
   "metadata": {},
   "outputs": [],
   "source": [
    "# Plot results\n",
    "dist_gentoo_BM.plot()"
   ]
  },
  {
   "cell_type": "code",
   "execution_count": null,
   "metadata": {},
   "outputs": [],
   "source": [
    "dist_gentoo_BM.plot_summary()"
   ]
  },
  {
   "cell_type": "code",
   "execution_count": null,
   "metadata": {},
   "outputs": [],
   "source": [
    "# Determine best-fitting probability distribution for data\n",
    "dist_adelie_BM = distfit(bins=50, smooth=10)\n",
    "dist_adelie_BM.fit_transform(adelie_Body_Mass)\n",
    "dist_adelie_BM.plot()\n",
    "dist_adelie_BM.plot_summary()"
   ]
  },
  {
   "cell_type": "code",
   "execution_count": null,
   "metadata": {},
   "outputs": [],
   "source": [
    "# Check distribution for \"Body_Mass(g)\"\n",
    "# Define the variable as a selection of the DataFrame\n",
    "chinstrap_Bill_Depth = chinstrap['Bill_Depth(mm)']\n",
    "adelie_Bill_Depth = adelie['Bill_Depth(mm)']\n",
    "gentoo_Bill_Depth = gentoo['Bill_Depth(mm)']\n",
    "\n",
    "# Create a figure\n",
    "fig, axes = plt.subplots(1, 3, figsize=(12, 6))\n",
    "\n",
    "# Histogram for Chinstrap\n",
    "sns.histplot(chinstrap_Bill_Depth, bins=100, kde=True, color='blue', ax=axes[0])\n",
    "axes[0].set_title(\"Chinstrap Histogram\")\n",
    "axes[0].set_xlabel(\"Value\")\n",
    "axes[0].set_ylabel(\"Frequency\")\n",
    "\n",
    "# Histogram for Adelie\n",
    "sns.histplot(adelie_Bill_Depth, bins=100, kde=True, color='orange', ax=axes[1])\n",
    "axes[1].set_title(\"Adelie Histogram\")\n",
    "axes[1].set_xlabel(\"Value\")\n",
    "axes[1].set_ylabel(\"Frequency\")\n",
    "\n",
    "# Histogram for Gentoo\n",
    "sns.histplot(gentoo_Bill_Depth, bins=100, kde=True, color='red', ax=axes[2])\n",
    "axes[2].set_title(\"Gentoo Histogram\")\n",
    "axes[2].set_xlabel(\"Value\")\n",
    "axes[2].set_ylabel(\"Frequency\")\n",
    "\n",
    "plt.tight_layout()\n",
    "plt.show()"
   ]
  },
  {
   "cell_type": "code",
   "execution_count": null,
   "metadata": {},
   "outputs": [
    {
     "ename": "NameError",
     "evalue": "name 'df' is not defined",
     "output_type": "error",
     "traceback": [
      "\u001b[1;31m---------------------------------------------------------------------------\u001b[0m\n",
      "\u001b[1;31mNameError\u001b[0m                                 Traceback (most recent call last)\n",
      "\u001b[1;32mc:\\Users\\anton\\Desktop\\GitHub\\Fondamentals of data analysis\\fund_data_analysis\\task.ipynb Cell 144\u001b[0m line \u001b[0;36m3\n",
      "\u001b[0;32m      <a href='vscode-notebook-cell:/c%3A/Users/anton/Desktop/GitHub/Fondamentals%20of%20data%20analysis/fund_data_analysis/task.ipynb#Y265sZmlsZQ%3D%3D?line=0'>1</a>\u001b[0m \u001b[39m# Build three dataframes with the data of each single species\u001b[39;00m\n",
      "\u001b[0;32m      <a href='vscode-notebook-cell:/c%3A/Users/anton/Desktop/GitHub/Fondamentals%20of%20data%20analysis/fund_data_analysis/task.ipynb#Y265sZmlsZQ%3D%3D?line=1'>2</a>\u001b[0m \u001b[39m# Filter the main DataFrame 'df' to create three separate DataFrames for each penguin species\u001b[39;00m\n",
      "\u001b[1;32m----> <a href='vscode-notebook-cell:/c%3A/Users/anton/Desktop/GitHub/Fondamentals%20of%20data%20analysis/fund_data_analysis/task.ipynb#Y265sZmlsZQ%3D%3D?line=2'>3</a>\u001b[0m chinstrap \u001b[39m=\u001b[39m df\u001b[39m.\u001b[39mloc[df[\u001b[39m'\u001b[39m\u001b[39mSpecies\u001b[39m\u001b[39m'\u001b[39m] \u001b[39m==\u001b[39m \u001b[39m'\u001b[39m\u001b[39mChinstrap\u001b[39m\u001b[39m'\u001b[39m]\n",
      "\u001b[0;32m      <a href='vscode-notebook-cell:/c%3A/Users/anton/Desktop/GitHub/Fondamentals%20of%20data%20analysis/fund_data_analysis/task.ipynb#Y265sZmlsZQ%3D%3D?line=3'>4</a>\u001b[0m adelie  \u001b[39m=\u001b[39m df\u001b[39m.\u001b[39mloc[df[\u001b[39m'\u001b[39m\u001b[39mSpecies\u001b[39m\u001b[39m'\u001b[39m] \u001b[39m==\u001b[39m \u001b[39m'\u001b[39m\u001b[39mAdelie\u001b[39m\u001b[39m'\u001b[39m]\n",
      "\u001b[0;32m      <a href='vscode-notebook-cell:/c%3A/Users/anton/Desktop/GitHub/Fondamentals%20of%20data%20analysis/fund_data_analysis/task.ipynb#Y265sZmlsZQ%3D%3D?line=4'>5</a>\u001b[0m gentoo \u001b[39m=\u001b[39m df\u001b[39m.\u001b[39mloc[df[\u001b[39m'\u001b[39m\u001b[39mSpecies\u001b[39m\u001b[39m'\u001b[39m] \u001b[39m==\u001b[39m \u001b[39m'\u001b[39m\u001b[39mGentoo\u001b[39m\u001b[39m'\u001b[39m]\n",
      "\n",
      "\u001b[1;31mNameError\u001b[0m: name 'df' is not defined"
     ]
    }
   ],
   "source": [
    "# Build three dataframes with the data of each single species\n",
    "# Filter the main DataFrame 'df' to create three separate DataFrames for each penguin species\n",
    "chinstrap = df.loc[df['Species'] == 'Chinstrap']\n",
    "adelie  = df.loc[df['Species'] == 'Adelie']\n",
    "gentoo = df.loc[df['Species'] == 'Gentoo']"
   ]
  },
  {
   "cell_type": "markdown",
   "metadata": {},
   "source": [
    "After filtering, the code extracts the 'Body_Mass(g)' data for each penguin species and stores them in separate variables."
   ]
  },
  {
   "cell_type": "code",
   "execution_count": null,
   "metadata": {},
   "outputs": [],
   "source": [
    "# Check distribution for \"Body_Mass(g)\"\n",
    "# Define separate variables to store the 'Body_Mass(g)' data for each penguin species\n",
    "chinstrap_Body_Mass = chinstrap['Body_Mass(g)']\n",
    "adelie_Body_Mass = adelie['Body_Mass(g)']\n",
    "gentoo_Body_Mass = gentoo['Body_Mass(g)']"
   ]
  },
  {
   "cell_type": "markdown",
   "metadata": {},
   "source": [
    "The code them creates a figure with three side-by-side subplots [[]](https://matplotlib.org/stable/gallery/subplots_axes_and_figures/subplots_demo.html), with each subplot dedicated to a different penguin species (Chinstrap, Adelie, and Gentoo).\n",
    "In each subplot, it plots a histogram of the body mass distribution for the respective species.\n",
    "Each subplot is customized with unique colors, titles, and labels, the layout of the subplots is adjusted to ensure that they are properly spaced and presented for clear visualization and finally the three plots are displayed."
   ]
  },
  {
   "cell_type": "code",
   "execution_count": null,
   "metadata": {},
   "outputs": [],
   "source": [
    "# Create a figure with three subplots side by side\n",
    "# Initialize a figure with a single row and three columns of subplots\n",
    "# The figure size is set to 12 inches in width and 6 inches in height\n",
    "fig, axes = plt.subplots(1, 3, figsize=(12, 6))\n",
    "\n",
    "# Plot a histogram for Chinstrap penguins' body mass\n",
    "# Display the histogram in the first subplot (axes[0])\n",
    "sns.histplot(chinstrap_Body_Mass, bins=100, kde=True, color='blue', ax=axes[0])\n",
    "axes[0].set_title(\"Chinstrap Histogram\")\n",
    "axes[0].set_xlabel(\"Value\")\n",
    "axes[0].set_ylabel(\"Frequency\")\n",
    "\n",
    "# Plot a histogram for Adelie penguins' body mass\n",
    "# Display the histogram in the second subplot (axes[1])\n",
    "sns.histplot(adelie_Body_Mass, bins=100, kde=True, color='orange', ax=axes[1])\n",
    "axes[1].set_title(\"Adelie Histogram\")\n",
    "axes[1].set_xlabel(\"Value\")\n",
    "axes[1].set_ylabel(\"Frequency\")\n",
    "\n",
    "# Plot a histogram for Gentoo penguins' body mass\n",
    "# Display the histogram in the third subplot (axes[2])\n",
    "sns.histplot(gentoo_Body_Mass, bins=100, kde=True, color='red', ax=axes[2])\n",
    "axes[2].set_title(\"Gentoo Histogram with KDE\")\n",
    "axes[2].set_xlabel(\"Value\")\n",
    "axes[2].set_ylabel(\"Frequency\")\n",
    "\n",
    "# Adjust the layout of subplots for better visualization\n",
    "plt.tight_layout()\n",
    "# Display the figure with the three histograms side by side\n",
    "plt.show()"
   ]
  },
  {
   "cell_type": "markdown",
   "metadata": {},
   "source": [
    "From a visual examination, Chinstrap look normally distributed. In a normal distribution, data is symmetrically distributed with no skew. Most of the data points are concentrated near the middle, and as you move away from the middle, you find fewer and fewer data points. [[]](https://www.scribbr.com/statistics/central-tendency/#:~:text=Skewed%20distributions%20In%20skewed%20distributions%2C%20more%20values%20fall,tail%20tells%20you%20the%20side%20of%20the%20skew).\n",
    "\n",
    "However, Adelie and Gentoo doesn' look be symmetrical but more a Right-skewed data distribution. This mean we need to identify what of skewed distribution they refer to [[]](https://statisticsbyjim.com/basics/skewed-distribution/).\n",
    "\n",
    "We can Firts perform a Shapiro test on **chinstrap_Body_Mass** to confirm the data is normally distributed [[]](https://www.statology.org/normality-test-python/). The shapiro test cannot be used on his own because the result can vary based on the shape of the dataset. However, can be use to confirm a visual check that already show a normal variable [[]](https://quantifyinghealth.com/report-shapiro-wilk-test/). We set the significance level (alpha) to 0.05 because it's a common threshold.  If the P value is greater than 0.05, the answer is Yes. If the P value is less than or equal to 0.05, the answer is No [[]](https://www.graphpad.com/guides/prism/latest/statistics/stat_interpreting_results_normality.htm)."
   ]
  },
  {
   "cell_type": "code",
   "execution_count": null,
   "metadata": {},
   "outputs": [],
   "source": [
    "# Import the required library for the Shapiro-Wilk test\n",
    "import scipy.stats as stats\n",
    "\n",
    "# Set the significance level (alpha) for the test\n",
    "alpha = 0.05\n",
    "\n",
    "# Print a bold title for the Shapiro-Wilk test for Chinstrap penguin body mass variable\n",
    "print('\\033[1m' + 'Shapiro Normality Test for Chinstrap Body Mass Variable' + '\\033[0m')\n",
    "\n",
    "# Perform the Shapiro-Wilk test on the Chinstrap penguin body mass data\n",
    "# This test checks if the data follows a normal distribution.\n",
    "statistic, p_value = stats.shapiro(chinstrap_Body_Mass)\n",
    "\n",
    "# Print the p-value obtained from the test\n",
    "print(f'The p-value of Chinstrap penguin body mass data is {p_value}')\n",
    "\n",
    "# Check if the p-value is greater than the chosen significance level (alpha)\n",
    "if p_value > alpha:\n",
    "    print('The data of Chinstrap penguins appears to be normally distributed'+'\\n')\n",
    "else:\n",
    "    print('The data of Chinstrap penguins does not appear to be normally distributed'+'\\n')"
   ]
  },
  {
   "cell_type": "markdown",
   "metadata": {},
   "source": [
    "We can now move to check what will be the best distribution fit for adelie_Body_Mass. \n",
    "From a visula point of view they looks beta, gamma or log normal. Those are all skewed probabilities.\n",
    "There are several instrument we can use, I personally decide to use the disfit library [[]](https://erdogant.github.io/distfit/pages/html/index.html). Distfit is a Python library that automatically analyzes data and identifies the best-fitting probability distribution out of 89 options, aiding in understanding the data's underlying pattern or shape [[]](https://www.kdnuggets.com/2021/09/determine-best-fitting-data-distribution-python.html).\n",
    "\n",
    "First, we will generate some data; initialize the distfit model; and fit the data to the model."
   ]
  },
  {
   "cell_type": "code",
   "execution_count": null,
   "metadata": {},
   "outputs": [],
   "source": [
    "# Import the 'distfit' class from the 'distfit' library\n",
    "from distfit import distfit\n",
    "\n",
    "# Initialize a 'distfit' model with specified settings, such as the number of bins and smoothing\n",
    "dist_gentoo_BM = distfit(bins=50, smooth=10)\n",
    "\n",
    "# Fit the data (gentoo_Body_Mass) to the 'distfit' model to determine the best-fitting probability distribution\n",
    "dist_gentoo_BM.fit_transform(gentoo_Body_Mass)\n",
    "\n",
    "# Print a summary of the evaluated probability distributions to see which one best fits the data\n",
    "print(dist_gentoo_BM.summary)"
   ]
  },
  {
   "cell_type": "markdown",
   "metadata": {},
   "source": [
    "From the data we've analyzed, it appears that the beta distribution is the best-fitting distribution for our dataset. To gain a better understanding, we can now create plots for the three best-fitting distributions using the 'distfit' function. Additionally, we can use the 'plot_summary' function to visualize how well each variable adapts to these distributions."
   ]
  },
  {
   "cell_type": "code",
   "execution_count": null,
   "metadata": {},
   "outputs": [],
   "source": [
    "# Plot the results of the 'distfit' analysis for the Gentoo penguin body mass data\n",
    "dist_gentoo_BM.plot(n_top=3)\n",
    "# Generate a summary plot for the 'distfit' analysis\n",
    "dist_gentoo_BM.plot_summary()"
   ]
  },
  {
   "cell_type": "markdown",
   "metadata": {},
   "source": [
    "From above we can say that the beta function is the one who fit better the distribution of the **gentoo_Body_Mass**\n",
    " dataframe.\n",
    "\n",
    "We can now repet the spet above for the variable **adelie_Body_Mass**."
   ]
  },
  {
   "cell_type": "code",
   "execution_count": null,
   "metadata": {},
   "outputs": [],
   "source": [
    "# Initialize a 'distfit' model for the Adelie penguin body mass data with specific settings\n",
    "dist_adelie_BM = distfit(bins=50, smooth=10)\n",
    "\n",
    "# Fit the Adelie penguin body mass data to the 'distfit' model to find the best-fitting probability distribution\n",
    "dist_adelie_BM.fit_transform(adelie_Body_Mass)\n",
    "\n",
    "# Plot the results of the 'distfit' analysis, showing how well the distribution fits the Adelie penguin body mass data\n",
    "dist_adelie_BM.plot(n_top=3)\n",
    "\n",
    "# Generate a summary plot to visualize the adaptation of different probability distributions to the data\n",
    "dist_adelie_BM.plot_summary()"
   ]
  },
  {
   "cell_type": "markdown",
   "metadata": {},
   "source": [
    "From the above we can see that the distribution that better apply to  **adelie_Body_Mass** is the gamma distribution.\n",
    "\n",
    "Here the differents distributions that apply to each species for the body_mass value:\n",
    "\n",
    "| Species | Type        | \n",
    "| --------- | ----------- | \n",
    "|Chinstrap | Normal | \n",
    "| Adelie   | Gamm\n",
    "| Gentoo | Beta |"
   ]
  },
  {
   "cell_type": "code",
   "execution_count": 20,
   "metadata": {},
   "outputs": [
    {
     "name": "stdout",
     "output_type": "stream",
     "text": [
      "0.8112781244591328\n"
     ]
    }
   ],
   "source": [
    "p = 0.75\n",
    "\n",
    "def entropy_cal(p):\n",
    "    entropy =-((1-p)*np.log2(1-p) + p*np.log2(p))\n",
    "    return entropy\n",
    "    \n",
    "print(entropy_cal(p))   "
   ]
  },
  {
   "cell_type": "code",
   "execution_count": 16,
   "metadata": {},
   "outputs": [
    {
     "name": "stdout",
     "output_type": "stream",
     "text": [
      "0.13081203594113697\n",
      "1.2475562489182659\n"
     ]
    },
    {
     "data": {
      "image/png": "[encoded data removed]",
      "text/plain": [
       "<Figure size 640x480 with 1 Axes>"
      ]
     },
     "metadata": {},
     "output_type": "display_data"
    }
   ],
   "source": [
    "import matplotlib.pyplot as plt\n",
    "import numpy as np\n",
    "from scipy.stats import entropy\n",
    "\n",
    "def entropy_cal(p):\n",
    "    # Probability mass function for X\n",
    "    px_0 = (1 - p)**2\n",
    "    px_1 = 2*p * (1 - p)\n",
    "    px_2 = p**2\n",
    "\n",
    "    # Entropy calculation\n",
    "    entropy = - (px_0 * np.log2(px_0) + px_1 * np.log2(px_1) + px_2 * np.log2(px_2) )\n",
    "\n",
    "    return entropy\n",
    "\n",
    "# Values of p\n",
    "p_values = np.linspace(0.01, 0.99, 100)\n",
    "\n",
    "# Calculate entropy for each p\n",
    "entropy_values = [entropy_cal(p) for p in p_values]\n",
    "\n",
    "p= 0.75\n",
    "coin_toss = [0.75, 0.25]\n",
    "print(entropy(coin_toss,2))\n",
    "\n",
    "print(entropy_cal(p))\n",
    "\n",
    "# Plotting\n",
    "plt.plot(p_values, entropy_values, label='Entropy')\n",
    "plt.title('Entropy of Total Number of Heads vs. p')\n",
    "plt.xlabel('p (Probability of Heads for Each Coin)')\n",
    "plt.ylabel('Entropy')\n",
    "plt.legend()\n",
    "plt.grid(True)\n",
    "plt.show()"
   ]
  },
  {
   "cell_type": "code",
   "execution_count": 9,
   "metadata": {},
   "outputs": [
    {
     "data": {
      "text/plain": [
       "0.8112781244591328"
      ]
     },
     "execution_count": 9,
     "metadata": {},
     "output_type": "execute_result"
    }
   ],
   "source": [
    "import numpy as np\n",
    "from scipy.stats import entropy\n",
    "coin_toss = [0.75, 0.25]\n",
    "entropy(coin_toss, base=2)\n"
   ]
  }
 ],
 "metadata": {
  "kernelspec": {
   "display_name": "base",
   "language": "python",
   "name": "python3"
  },
  "language_info": {
   "codemirror_mode": {
    "name": "ipython",
    "version": 3
   },
   "file_extension": ".py",
   "mimetype": "text/x-python",
   "name": "python",
   "nbconvert_exporter": "python",
   "pygments_lexer": "ipython3",
   "version": "3.11.4"
  }
 },
 "nbformat": 4,
 "nbformat_minor": 2
}
