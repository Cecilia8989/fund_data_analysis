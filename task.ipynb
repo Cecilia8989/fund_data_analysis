{
 "cells": [
  {
   "cell_type": "markdown",
   "metadata": {},
   "source": [
    "# Fundamental of Data Analysis Tasks\n",
    "\n",
    "**Author: Cecilia Pastore**\n",
    "\n",
    "***\n"
   ]
  },
  {
   "cell_type": "markdown",
   "metadata": {},
   "source": [
    "## Table of Contents\n",
    "* [Chapter 1](#chapter1)\n",
    "    * [Section 1.1](#section_1_1)\n",
    "        * [Sub Section 1.1.1](#sub_section_1_1_1)\n",
    "* [Chapter 2](#chapter2)\n",
    "    * [Section 2.1](#section_2_1)\n",
    "        * [Sub Section 2.1.1](#sub_section_2_1_1)\n",
    "        * [Sub Section 2.1.2](#sub_section_2_1_2)\n",
    "    * [Section 2.2](#section_2_2)\n",
    "        * [Sub Section 2.2.1](#sub_section_2_2_1)\n",
    "        * [Sub Section 2.2.2](#sub_section_2_2_2)\n",
    "* [Chapter 3](#chapter3)\n",
    "    * [Section 3.1](#section_3_1)\n",
    "        * [Sub Section 3.1.1](#sub_section_3_1_1)\n",
    "        * [Sub Section 3.1.2](#sub_section_3_1_2)\n",
    "    * [Section 3.2](#section_3_2)\n",
    "        * [Sub Section 3.2.1](#sub_section_3_2_1)\n",
    "        * [Sub Section 3.2.2](#sub_section_3_2_2)"
   ]
  },
  {
   "cell_type": "markdown",
   "metadata": {},
   "source": [
    "### **Task 1 - The Collatz conjecture**\n",
    "\n",
    "<details>\n",
    "    <summary>Task requested:</summary>\n",
    "           <p>\n",
    "\n",
    "The Collatz conjecture1 is a famous unsolved problem in mathematics. The problem is to prove that if you start with any positive integer x and repeatedly apply the function f(x) below, you always get stuck in the repeating sequence 1, 4, 2, 1, 4, 2, . . .\n",
    "$$\n",
    " f(n) =\n",
    "  \\begin{cases}\n",
    "    n/2       & \\quad \\text{if } n \\text{ is even}\\\\\n",
    "    -(n+1)/2  & \\quad \\text{if } n \\text{ is odd}\n",
    "  \\end{cases}\n",
    "$$\n",
    "\n",
    "\n",
    "For example, starting with the value 10, which is an even number,we divide it by 2 to get 5. Then 5 is an odd number so, we mul\u0002tiply by 3 and add 1 to get 16. Then we repeatedly divide by 2 to get 8, 4, 2, 1. Once we are at 1, we go back to 4 and get stuck in the repeating sequence 4, 2, 1 as we suspected.\n",
    "\n",
    "Your task is to verify, using Python, that the conjecture is true for the first 10,000 positive integers.\n",
    "\n",
    "</p>\n",
    "</details>"
   ]
  },
  {
   "cell_type": "markdown",
   "metadata": {},
   "source": [
    "I want to devide the task in 2 parts:\n",
    "1. in the first part I will define a function f(x) and a function collatz(x) to check the collatz sequence for a number imput by the user \n",
    "\n",
    "2. in the second part, I'll use a for loop to check the Collatz sequence for each number from 1 to 10,000 to verify that the sequence ends up at 1. "
   ]
  },
  {
   "cell_type": "markdown",
   "metadata": {},
   "source": [
    "**1.1 Verify the collatz conjecture for a given number**"
   ]
  },
  {
   "cell_type": "markdown",
   "metadata": {},
   "source": [
    "In this section we will need to verify that the collatz conjecture is true for a casual number enter by the user."
   ]
  },
  {
   "cell_type": "markdown",
   "metadata": {},
   "source": [
    "<details>\n",
    "    <summary>Summary of the code:</summary>\n",
    "           <p>\n",
    "           \n",
    "1.  The script first prompts the user to enter a positive number. A while loop is used to validate whether the user inputs a positive number. If a positive number is provided, the script exits the while loop. However, if the user enters a negative number, the script will continue to prompt the user to enter a positive number until one is provided.\n",
    "\n",
    "2. The first function, f(x), is defined. This function checks whether the number is even or odd and, based on that, performs a specific calculation.\n",
    "    If the number is even, the script divides it by 2 and appends it to the \"numbers\" list.\n",
    "    If the number is odd, the script multiplies the number by 3 and adds 1.\n",
    "   \n",
    "3. Finally, the collatz(x) function is responsible for computing and presenting the Collatz sequence for the given number."
   ]
  },
  {
   "cell_type": "markdown",
   "metadata": {},
   "source": [
    "The script prompt the user to enter a positive number [[1]](https://www.geeksforgeeks.org/how-to-take-integer-input-in-python/) which is then converted in an integer and stored in the number variable."
   ]
  },
  {
   "cell_type": "code",
   "execution_count": 4,
   "metadata": {},
   "outputs": [],
   "source": [
    "number = int(input(\"Please Enter a positive number: \"))"
   ]
  },
  {
   "cell_type": "markdown",
   "metadata": {},
   "source": [
    "A first while loop [[2]](https://www.programiz.com/python-programming/while-loop) is used to ensure that the user enters a positive number. If the number entered is less than or equal to 0, the loop will execute and prompt the user to enter a positive number again."
   ]
  },
  {
   "cell_type": "code",
   "execution_count": 5,
   "metadata": {},
   "outputs": [],
   "source": [
    "while number <=0:\n",
    "    print(\"You didn't enter a positive number!\")\n",
    "    number = int(input(\"Please Enter a positive number: \"))"
   ]
  },
  {
   "cell_type": "markdown",
   "metadata": {},
   "source": [
    "Define a  function **f(x)** that takes an input integer x and checks whether x is even or odd [[3]](https://www.toppr.com/guides/python-guide/examples/python-examples/python-program-to-check-if-a-number-is-odd-or-even/) using the modulo operator %. If x is even, it divides x by 2 using integer division (//) and returns the result. If x is odd, it performs the operation 3 * x + 1 and returns the result."
   ]
  },
  {
   "cell_type": "code",
   "execution_count": 6,
   "metadata": {},
   "outputs": [],
   "source": [
    "def f(x):\n",
    "    # if f is even, devide by two.\n",
    "    if x % 2 == 0:\n",
    "        return x // 2 \n",
    "    else: \n",
    "        # If x is odd, perform the operation (3 * x) + 1 and return the result\n",
    "        return (3 *x) +1\n",
    "   "
   ]
  },
  {
   "cell_type": "markdown",
   "metadata": {},
   "source": [
    "Define the **collatz(x)** function. The collatz function use the previous function to print the collatz sequence strating from x and continuing until the values reaches 1. During the loop, it prints each value of x in the sequence separated by hyphens. Finally, it prints the value 1 to indicate the end of the Collatz sequence."
   ]
  },
  {
   "cell_type": "code",
   "execution_count": 7,
   "metadata": {},
   "outputs": [],
   "source": [
    "def collatz(x):\n",
    "    # Print a message indicating that we are testing the Collatz sequence with the initial value x\n",
    "    print(f'Testing Collatz with initial value {x}')\n",
    "    # while loop until x == 1\n",
    "    while x != 1:\n",
    "        # print the current value of x and update it using the collatz function \n",
    "        print(x, end= \"-\")\n",
    "        x = f(x)\n",
    "    # Print the final value (1)\n",
    "    print(x)"
   ]
  },
  {
   "cell_type": "markdown",
   "metadata": {},
   "source": [
    "Finally run the function **collatz(x)** based on the number entered by the user"
   ]
  },
  {
   "cell_type": "code",
   "execution_count": 8,
   "metadata": {},
   "outputs": [
    {
     "name": "stdout",
     "output_type": "stream",
     "text": [
      "Testing Collatz with initial value 9\n",
      "9-28-14-7-22-11-34-17-52-26-13-40-20-10-5-16-8-4-2-1\n"
     ]
    }
   ],
   "source": [
    "collatz(number)"
   ]
  },
  {
   "cell_type": "markdown",
   "metadata": {},
   "source": [
    "**1.2 Verify that the collatz's conjecture is true for the first 10,000 positive integers.**"
   ]
  },
  {
   "cell_type": "markdown",
   "metadata": {},
   "source": [
    "In this section we will verify that the collatz's conjecture is true for all the number between 0 and 10000."
   ]
  },
  {
   "cell_type": "markdown",
   "metadata": {},
   "source": [
    "<details>\n",
    "    <summary>Summary of the code:</summary>\n",
    "           <p>\n",
    "1. The script use the same function defined in task 1.1, **f(X)** to perform a specific calculation if the number is odd or even.\n",
    "\n",
    "2. A list called **collatz_list** is initializes to store the result of Collatz sequences for a range of positive integers.\n",
    "\n",
    "3. The function **collatz_sec(x)** is defined. This function applies the Collatz sequence rules to a given positive integer x, iteratively updating it until it reaches the value 1, and then returns that final value.\n",
    "\n",
    "4. A loop iterates through positive integers from 1 to 10,000, to calculate the Collatz sequence for each integer and stores the final value in the **collatz_list**.\n",
    "\n",
    "5. The highest value within the **collatz_list** is identifies. If this max value is 1, the collatz's conjecture is verified and the result it is printed"
   ]
  },
  {
   "cell_type": "markdown",
   "metadata": {},
   "source": [
    "The function **collatz_sec(x)** calculates the Collatz sequence for a given positive integer x by iteratively applying the function f(x) until x reaches the final value of 1. It then returns this final value of 1 as per the Collatz sequence rule."
   ]
  },
  {
   "cell_type": "code",
   "execution_count": 9,
   "metadata": {},
   "outputs": [],
   "source": [
    "def collatz_sec(x):\n",
    "    # Keep running the Collatz sequence until x reaches 1\n",
    "    while x != 1:\n",
    "        x = f(x)  # Apply the function f(x) to update x\n",
    "    return x  # Return the final value of x, which is 1 for the Collatz sequence\n"
   ]
  },
  {
   "cell_type": "markdown",
   "metadata": {},
   "source": [
    "The list **collatz_list** is defined as empty."
   ]
  },
  {
   "cell_type": "code",
   "execution_count": 10,
   "metadata": {},
   "outputs": [],
   "source": [
    "collatz_list = []  # Initialize an empty list to store results"
   ]
  },
  {
   "cell_type": "markdown",
   "metadata": {},
   "source": [
    "A for loop is used to calculate the Collatz sequence for integers from 1 to 10,000 and stores the results in collatz_list [[4]](https://www.freecodecamp.org/news/python-map-function-how-to-map-a-list-in-python-3-0-with-example-code/). "
   ]
  },
  {
   "cell_type": "code",
   "execution_count": 11,
   "metadata": {},
   "outputs": [],
   "source": [
    "# Loop through positive integers from 1 to 10,000\n",
    "for i in range(1, 10001):\n",
    "    collatz_list.append(collatz_sec(i))  # Calculate the Collatz sequence for i and store the result"
   ]
  },
  {
   "cell_type": "markdown",
   "metadata": {},
   "source": [
    "A max() [[5]](https://www.w3schools.com/python/ref_func_max.asp) function is used to return the item with the highest value in the **collatz_list** and this is stored in the variable **max_number**."
   ]
  },
  {
   "cell_type": "code",
   "execution_count": 12,
   "metadata": {},
   "outputs": [],
   "source": [
    "max_number = max(collatz_list)  # Find the maximum value in the collatz_list"
   ]
  },
  {
   "cell_type": "markdown",
   "metadata": {},
   "source": [
    "Finally, an if statement [[6]](https://www.w3schools.com/python/python_conditions.asp) checks whether the maximum value is equal to 1, which is a key condition to verify Collatz's conjecture. If it is 1, it confirms the conjecture's truth for the specified range of positive integers and prints a corresponding message. Otherwise, it prints a message indicating that the conjecture is not true."
   ]
  },
  {
   "cell_type": "code",
   "execution_count": 13,
   "metadata": {},
   "outputs": [
    {
     "name": "stdout",
     "output_type": "stream",
     "text": [
      "The collatz's conjecture is true for the first 10,000 positive integers.\n"
     ]
    }
   ],
   "source": [
    "# Check if the maximum number is equal to 1 and print the relevant message \n",
    "if max_number == 1: \n",
    "    print(\"The collatz's conjecture is true for the first 10,000 positive integers.\")\n",
    "else:\n",
    "    print(\"The collatz's conjecture is not true for the first 10,000 positive integers.\")"
   ]
  },
  {
   "cell_type": "markdown",
   "metadata": {},
   "source": [
    "### **Task 2 - The Penguins Data Set**"
   ]
  },
  {
   "cell_type": "markdown",
   "metadata": {},
   "source": [
    "<details>\n",
    "    <summary>Task requested:</summary>\n",
    "           <p>\n",
    "\n",
    "Give an overview of the famous penguins data set, explaining the types of variables it contains. Suggest the types of variables that should be used to model them in Python, explaining your rationale."
   ]
  },
  {
   "cell_type": "markdown",
   "metadata": {},
   "source": [
    "The task will be devided in 2 steps:\n",
    "1. In the first section, the penguins dataset will be presented, imported explored and cleaned to have a better view of his caractheristic.\n",
    "2. In the second part will be explained what type of variabble it contain and what should be used to model them in phyton."
   ]
  },
  {
   "cell_type": "markdown",
   "metadata": {},
   "source": [
    "#### **2.1 Overview of the Palmer Penguins Data set**"
   ]
  },
  {
   "cell_type": "markdown",
   "metadata": {},
   "source": [
    "##### **2.1.2 Palmer Penguins Data Set introduction**"
   ]
  },
  {
   "cell_type": "markdown",
   "metadata": {},
   "source": [
    "<div>\n",
    "  <center><img src=\"https://i0.wp.com/begincodingnow.com/wp-content/uploads/2023/03/palmerpenguins.png?ssl=1\" width=\"300\"></center>\n",
    "</div>"
   ]
  },
  {
   "cell_type": "markdown",
   "metadata": {},
   "source": [
    "<div>\n",
    "  <center><a href=\"https://allisonhorst.github.io/palmerpenguins/articles/art.html\"><i>[Fig. 1] - Palmer penguins hex</i></a></center>\n",
    "</div>\n",
    "\n"
   ]
  },
  {
   "cell_type": "markdown",
   "metadata": {},
   "source": [
    "The Palmer Penguin dataset [[7]](https://github.com/mwaskom/seaborn-data/blob/master/penguins.csv), also known as the Palmer Archipelago penguin dataset, is a popular and publicly available dataset that contains a collection of morphological measurement and observational data for three species of penguins found on the Palmer Archipelago near the Antarctic Peninsula[[8]](https://www.chegg.com/homework-help/questions-and-answers/palmerpenguins-dataset-collection-morphological-measurements-observational-data-three-spec-q114471634). This dataset is often used, as a great alternative to the Iris dataset, for educational and research purposes in data science and machine learning [[9]](https://allisonhorst.github.io/palmerpenguins/articles/intro.html)."
   ]
  },
  {
   "cell_type": "markdown",
   "metadata": {},
   "source": [
    "<div>\n",
    "  <center><img src=\"https://allisonhorst.github.io/palmerpenguins/reference/figures/lter_penguins.png\" width=\"500\"></center>\n",
    "</div>"
   ]
  },
  {
   "cell_type": "markdown",
   "metadata": {},
   "source": [
    "<div>\n",
    "  <center><a href=\"https://allisonhorst.github.io/palmerpenguins/articles/art.html\"><i>[Fig. 2] - Palmer Species</i></a></center>\n",
    "</div>"
   ]
  },
  {
   "cell_type": "markdown",
   "metadata": {},
   "source": [
    "Data for this dataset were compiled during the years 2007 to 2009 by Dr. Kristen Gorman, a member of the Long Term Ecological Research Network, in collaboration with the Palmer Station, a research facility situated on Anvers Island in the Antarctic Peninsula.  \n",
    "\n",
    "The objective was to investigate the entirety of available data concerning ecological sexual dimorphism and environmental variability within a community of Antarctic penguins belonging to the *Pygoscelis genus*, as documented in the work of Gorman, Williams, and Fraser in 2014 [[10]](https://journals.plos.org/plosone/article?id=10.1371/journal.pone.0090081)."
   ]
  },
  {
   "cell_type": "markdown",
   "metadata": {},
   "source": [
    "<div>\n",
    "  <center><img src=\"https://cdn2.vectorstock.com/i/1000x1000/00/26/diagram-showing-body-part-penguin-vector-25010026.jpg\" width=\"500\"></center>\n",
    "</div>"
   ]
  },
  {
   "cell_type": "markdown",
   "metadata": {},
   "source": [
    "<div>\n",
    "  <center><a href=\"https://www.vectorstock.com/royalty-free-vector/diagram-showing-body-part-penguin-vector-25010026\"><i>[Fig. 3] - Body Part of a penguin</i></a></center>\n",
    "</div>"
   ]
  },
  {
   "cell_type": "markdown",
   "metadata": {},
   "source": [
    "The dataset consist of 344 penguins observationthe following information for each penguin specimen[[11]](https://journal.r-project.org/articles/RJ-2022-020/):\n",
    "\n",
    "1. Species: The species of penguins, which can be one of three types: Adelie, Gentoo, or Chinstrap.\n",
    "2. Island: The specific island in the Palmer Archipelago where the penguin was observed. The dataset typically includes data from three islands: Biscoe, Dream, and Torgersen.\n",
    "3. Culmen Length and Depth: Measurements of the culmen, which is the upper ridge of the penguin's beak, including its length and depth in millimeters.\n",
    "4. Flipper Length: The length of the penguin's flipper, also measured in millimeters.\n",
    "5. Body Mass: The mass of the penguin in grams.\n",
    "6. Sex: The gender of the penguin, which can be male or female."
   ]
  },
  {
   "cell_type": "markdown",
   "metadata": {},
   "source": [
    "\n",
    "<div>\n",
    "  <center><img src=\"https://allisonhorst.github.io/palmerpenguins/reference/figures/culmen_depth.png\" width=\"500\"></center>\n",
    "</div>"
   ]
  },
  {
   "cell_type": "markdown",
   "metadata": {},
   "source": [
    "<div>\n",
    "  <center><a href=\"https://www.vectorstock.com/royalty-free-vector/diagram-showing-body-part-penguin-vector-25010026\"><i>[Fig. 4] - Penguins Bills</i></a></center>\n",
    "</div>"
   ]
  },
  {
   "cell_type": "markdown",
   "metadata": {},
   "source": [
    "##### **2.1.2 Import the Penguins Data Set**"
   ]
  },
  {
   "cell_type": "markdown",
   "metadata": {},
   "source": [
    "There are several ways to import the penguins dataset. One of the most use is download it as a csv from an url online [[12]](https://www.kaggle.com/code/parulpandey/penguin-dataset-the-new-iris). Another option is to install the *palmerpenguins* library and use the *load_penguins* function to add the dataset into a pandas DataFrame [[13]](https://python-graph-gallery.com/web-ggbetweenstats-with-matplotlib/). A third approach is to use the load_dataset() function from the seaborn library [[14]](https://seaborn.pydata.org/generated/seaborn.load_dataset.html). I decided to opt for this last method as it don't involve the need to download the CSV file from a URL every time the script is executed.\n",
    "\n",
    "The aim of this section is import the dataset and format it in a more friendly way."
   ]
  },
  {
   "cell_type": "markdown",
   "metadata": {},
   "source": [
    "<details>\n",
    "    <summary>Summary of the code:</summary>\n",
    "           <p>\n",
    "           \n",
    "1. The script first import the Penguins datased using using Seaborn's **load_dataset** function and store it in a dataframe called df.\n",
    "2. the columns name is changed with the **column()** function to add a more friendly name.\n",
    "3. the function **sample()** it is used to show five random row and check the new format."
   ]
  },
  {
   "cell_type": "markdown",
   "metadata": {},
   "source": [
    "***Code explanation***"
   ]
  },
  {
   "cell_type": "markdown",
   "metadata": {},
   "source": [
    "Import the needed library:\n",
    "1. Pandas: Pandas is a powerful data manipulation and analysis library for Python.  It provides tools to study, tidy up, explore, and change your datasets [[15]](https://pandas.pydata.org/).\n",
    "2. Seaborn: Seaborn is a Python data visualization library that builds on top of Matplotlib. It offers an easy-to-use interface for creating visually appealing and informative statistical graphics [[16]](https://seaborn.pydata.org/)."
   ]
  },
  {
   "cell_type": "code",
   "execution_count": 14,
   "metadata": {},
   "outputs": [],
   "source": [
    "import pandas as pd\n",
    "import seaborn as sns"
   ]
  },
  {
   "cell_type": "markdown",
   "metadata": {},
   "source": [
    "The dataset 'penguins' is loaded using Seaborn's 'load_dataset()' function and stored as a DataFrame in the variable 'df.' We will then display the content of the DataFrame to examine the first 5 rows and the last 5 rows. As expected, we can see a total of 344 rows."
   ]
  },
  {
   "cell_type": "code",
   "execution_count": 15,
   "metadata": {},
   "outputs": [
    {
     "data": {
      "text/html": [
       "<div>\n",
       "<style scoped>\n",
       "    .dataframe tbody tr th:only-of-type {\n",
       "        vertical-align: middle;\n",
       "    }\n",
       "\n",
       "    .dataframe tbody tr th {\n",
       "        vertical-align: top;\n",
       "    }\n",
       "\n",
       "    .dataframe thead th {\n",
       "        text-align: right;\n",
       "    }\n",
       "</style>\n",
       "<table border=\"1\" class=\"dataframe\">\n",
       "  <thead>\n",
       "    <tr style=\"text-align: right;\">\n",
       "      <th></th>\n",
       "      <th>species</th>\n",
       "      <th>island</th>\n",
       "      <th>bill_length_mm</th>\n",
       "      <th>bill_depth_mm</th>\n",
       "      <th>flipper_length_mm</th>\n",
       "      <th>body_mass_g</th>\n",
       "      <th>sex</th>\n",
       "    </tr>\n",
       "  </thead>\n",
       "  <tbody>\n",
       "    <tr>\n",
       "      <th>0</th>\n",
       "      <td>Adelie</td>\n",
       "      <td>Torgersen</td>\n",
       "      <td>39.1</td>\n",
       "      <td>18.7</td>\n",
       "      <td>181.0</td>\n",
       "      <td>3750.0</td>\n",
       "      <td>Male</td>\n",
       "    </tr>\n",
       "    <tr>\n",
       "      <th>1</th>\n",
       "      <td>Adelie</td>\n",
       "      <td>Torgersen</td>\n",
       "      <td>39.5</td>\n",
       "      <td>17.4</td>\n",
       "      <td>186.0</td>\n",
       "      <td>3800.0</td>\n",
       "      <td>Female</td>\n",
       "    </tr>\n",
       "    <tr>\n",
       "      <th>2</th>\n",
       "      <td>Adelie</td>\n",
       "      <td>Torgersen</td>\n",
       "      <td>40.3</td>\n",
       "      <td>18.0</td>\n",
       "      <td>195.0</td>\n",
       "      <td>3250.0</td>\n",
       "      <td>Female</td>\n",
       "    </tr>\n",
       "    <tr>\n",
       "      <th>3</th>\n",
       "      <td>Adelie</td>\n",
       "      <td>Torgersen</td>\n",
       "      <td>NaN</td>\n",
       "      <td>NaN</td>\n",
       "      <td>NaN</td>\n",
       "      <td>NaN</td>\n",
       "      <td>NaN</td>\n",
       "    </tr>\n",
       "    <tr>\n",
       "      <th>4</th>\n",
       "      <td>Adelie</td>\n",
       "      <td>Torgersen</td>\n",
       "      <td>36.7</td>\n",
       "      <td>19.3</td>\n",
       "      <td>193.0</td>\n",
       "      <td>3450.0</td>\n",
       "      <td>Female</td>\n",
       "    </tr>\n",
       "    <tr>\n",
       "      <th>...</th>\n",
       "      <td>...</td>\n",
       "      <td>...</td>\n",
       "      <td>...</td>\n",
       "      <td>...</td>\n",
       "      <td>...</td>\n",
       "      <td>...</td>\n",
       "      <td>...</td>\n",
       "    </tr>\n",
       "    <tr>\n",
       "      <th>339</th>\n",
       "      <td>Gentoo</td>\n",
       "      <td>Biscoe</td>\n",
       "      <td>NaN</td>\n",
       "      <td>NaN</td>\n",
       "      <td>NaN</td>\n",
       "      <td>NaN</td>\n",
       "      <td>NaN</td>\n",
       "    </tr>\n",
       "    <tr>\n",
       "      <th>340</th>\n",
       "      <td>Gentoo</td>\n",
       "      <td>Biscoe</td>\n",
       "      <td>46.8</td>\n",
       "      <td>14.3</td>\n",
       "      <td>215.0</td>\n",
       "      <td>4850.0</td>\n",
       "      <td>Female</td>\n",
       "    </tr>\n",
       "    <tr>\n",
       "      <th>341</th>\n",
       "      <td>Gentoo</td>\n",
       "      <td>Biscoe</td>\n",
       "      <td>50.4</td>\n",
       "      <td>15.7</td>\n",
       "      <td>222.0</td>\n",
       "      <td>5750.0</td>\n",
       "      <td>Male</td>\n",
       "    </tr>\n",
       "    <tr>\n",
       "      <th>342</th>\n",
       "      <td>Gentoo</td>\n",
       "      <td>Biscoe</td>\n",
       "      <td>45.2</td>\n",
       "      <td>14.8</td>\n",
       "      <td>212.0</td>\n",
       "      <td>5200.0</td>\n",
       "      <td>Female</td>\n",
       "    </tr>\n",
       "    <tr>\n",
       "      <th>343</th>\n",
       "      <td>Gentoo</td>\n",
       "      <td>Biscoe</td>\n",
       "      <td>49.9</td>\n",
       "      <td>16.1</td>\n",
       "      <td>213.0</td>\n",
       "      <td>5400.0</td>\n",
       "      <td>Male</td>\n",
       "    </tr>\n",
       "  </tbody>\n",
       "</table>\n",
       "<p>344 rows × 7 columns</p>\n",
       "</div>"
      ],
      "text/plain": [
       "    species     island  bill_length_mm  bill_depth_mm  flipper_length_mm  \\\n",
       "0    Adelie  Torgersen            39.1           18.7              181.0   \n",
       "1    Adelie  Torgersen            39.5           17.4              186.0   \n",
       "2    Adelie  Torgersen            40.3           18.0              195.0   \n",
       "3    Adelie  Torgersen             NaN            NaN                NaN   \n",
       "4    Adelie  Torgersen            36.7           19.3              193.0   \n",
       "..      ...        ...             ...            ...                ...   \n",
       "339  Gentoo     Biscoe             NaN            NaN                NaN   \n",
       "340  Gentoo     Biscoe            46.8           14.3              215.0   \n",
       "341  Gentoo     Biscoe            50.4           15.7              222.0   \n",
       "342  Gentoo     Biscoe            45.2           14.8              212.0   \n",
       "343  Gentoo     Biscoe            49.9           16.1              213.0   \n",
       "\n",
       "     body_mass_g     sex  \n",
       "0         3750.0    Male  \n",
       "1         3800.0  Female  \n",
       "2         3250.0  Female  \n",
       "3            NaN     NaN  \n",
       "4         3450.0  Female  \n",
       "..           ...     ...  \n",
       "339          NaN     NaN  \n",
       "340       4850.0  Female  \n",
       "341       5750.0    Male  \n",
       "342       5200.0  Female  \n",
       "343       5400.0    Male  \n",
       "\n",
       "[344 rows x 7 columns]"
      ]
     },
     "execution_count": 15,
     "metadata": {},
     "output_type": "execute_result"
    }
   ],
   "source": [
    "# Load the \"penguins\" dataset using Seaborn's load_dataset function and store it in the variable 'df'\n",
    "df=sns.load_dataset(\"penguins\")\n",
    "# Display the 'df' DataFrame, which contains the loaded dataset\n",
    "df"
   ]
  },
  {
   "cell_type": "markdown",
   "metadata": {},
   "source": [
    "I will finally change the column in a more friendly version [[17]](https://www.kdnuggets.com/2022/11/4-ways-rename-pandas-columns.html) and use the function *sample()* to brings out a sample of 5 random rows."
   ]
  },
  {
   "cell_type": "code",
   "execution_count": 16,
   "metadata": {},
   "outputs": [
    {
     "data": {
      "text/html": [
       "<div>\n",
       "<style scoped>\n",
       "    .dataframe tbody tr th:only-of-type {\n",
       "        vertical-align: middle;\n",
       "    }\n",
       "\n",
       "    .dataframe tbody tr th {\n",
       "        vertical-align: top;\n",
       "    }\n",
       "\n",
       "    .dataframe thead th {\n",
       "        text-align: right;\n",
       "    }\n",
       "</style>\n",
       "<table border=\"1\" class=\"dataframe\">\n",
       "  <thead>\n",
       "    <tr style=\"text-align: right;\">\n",
       "      <th></th>\n",
       "      <th>Species</th>\n",
       "      <th>Island</th>\n",
       "      <th>Bill_Length(mm)</th>\n",
       "      <th>Bill_Depth(mm)</th>\n",
       "      <th>Flipper_Length(mm)</th>\n",
       "      <th>Body_Mass(g)</th>\n",
       "      <th>Sex</th>\n",
       "    </tr>\n",
       "  </thead>\n",
       "  <tbody>\n",
       "    <tr>\n",
       "      <th>3</th>\n",
       "      <td>Adelie</td>\n",
       "      <td>Torgersen</td>\n",
       "      <td>NaN</td>\n",
       "      <td>NaN</td>\n",
       "      <td>NaN</td>\n",
       "      <td>NaN</td>\n",
       "      <td>NaN</td>\n",
       "    </tr>\n",
       "    <tr>\n",
       "      <th>24</th>\n",
       "      <td>Adelie</td>\n",
       "      <td>Biscoe</td>\n",
       "      <td>38.8</td>\n",
       "      <td>17.2</td>\n",
       "      <td>180.0</td>\n",
       "      <td>3800.0</td>\n",
       "      <td>Male</td>\n",
       "    </tr>\n",
       "    <tr>\n",
       "      <th>212</th>\n",
       "      <td>Chinstrap</td>\n",
       "      <td>Dream</td>\n",
       "      <td>51.9</td>\n",
       "      <td>19.5</td>\n",
       "      <td>206.0</td>\n",
       "      <td>3950.0</td>\n",
       "      <td>Male</td>\n",
       "    </tr>\n",
       "    <tr>\n",
       "      <th>271</th>\n",
       "      <td>Gentoo</td>\n",
       "      <td>Biscoe</td>\n",
       "      <td>48.5</td>\n",
       "      <td>14.1</td>\n",
       "      <td>220.0</td>\n",
       "      <td>5300.0</td>\n",
       "      <td>Male</td>\n",
       "    </tr>\n",
       "    <tr>\n",
       "      <th>327</th>\n",
       "      <td>Gentoo</td>\n",
       "      <td>Biscoe</td>\n",
       "      <td>53.4</td>\n",
       "      <td>15.8</td>\n",
       "      <td>219.0</td>\n",
       "      <td>5500.0</td>\n",
       "      <td>Male</td>\n",
       "    </tr>\n",
       "  </tbody>\n",
       "</table>\n",
       "</div>"
      ],
      "text/plain": [
       "       Species     Island  Bill_Length(mm)  Bill_Depth(mm)  \\\n",
       "3       Adelie  Torgersen              NaN             NaN   \n",
       "24      Adelie     Biscoe             38.8            17.2   \n",
       "212  Chinstrap      Dream             51.9            19.5   \n",
       "271     Gentoo     Biscoe             48.5            14.1   \n",
       "327     Gentoo     Biscoe             53.4            15.8   \n",
       "\n",
       "     Flipper_Length(mm)  Body_Mass(g)   Sex  \n",
       "3                   NaN           NaN   NaN  \n",
       "24                180.0        3800.0  Male  \n",
       "212               206.0        3950.0  Male  \n",
       "271               220.0        5300.0  Male  \n",
       "327               219.0        5500.0  Male  "
      ]
     },
     "execution_count": 16,
     "metadata": {},
     "output_type": "execute_result"
    }
   ],
   "source": [
    "# Changing column name for Clarity \n",
    "df.columns = [\"Species\", \"Island\", \"Bill_Length(mm)\", \"Bill_Depth(mm)\", \"Flipper_Length(mm)\", \"Body_Mass(g)\", \"Sex\"]\n",
    "df.sample(5)"
   ]
  },
  {
   "cell_type": "markdown",
   "metadata": {},
   "source": [
    "**2.1.3 Data exploration and cleaning**"
   ]
  },
  {
   "cell_type": "markdown",
   "metadata": {},
   "source": [
    "The aim of this section is to thoroughly examine the dataset, gain a clear understanding of its contents, identify the types of data it contains, and, if necessary, address any missing values to ensure that the dataset is properly prepared for further analysis."
   ]
  },
  {
   "cell_type": "markdown",
   "metadata": {},
   "source": [
    "<details>\n",
    "    <summary>Summary:</summary>\n",
    "           <p>\n",
    "\n",
    "The script does:\n",
    "\n",
    "1. It prints the shape of the DataFrame using **df.shape**, indicating the number of rows and columns.\n",
    "2. It provides information about the DataFrame using the **df.info()** function. This function displays details about the data types of each column, the number of non-null values, and other basic information about the DataFrame's structure.\n",
    "3. It generates summary statistics for the DataFrame using the **df.describe()** function. This function provides common statistics like mean, standard deviation, and quartiles for numeric columns.\n",
    "4. A function is defined that output a **missing_values_table**. The table contains three key pieces of information for each column in a DataFrame: the count of missing values, the percentage of missing values relative to the total, and the data type of the columns.\n",
    "5. Missing value are replaced using the sci-kit learns library **SimpleImputer**."
   ]
  },
  {
   "cell_type": "markdown",
   "metadata": {},
   "source": [
    "As first thing I will output the shame of the dataframe with the function **shape()**. It will display the number of row and columns. We can see that the dataset has 344 rows and 7 columns. "
   ]
  },
  {
   "cell_type": "code",
   "execution_count": 17,
   "metadata": {},
   "outputs": [
    {
     "data": {
      "text/plain": [
       "(344, 7)"
      ]
     },
     "execution_count": 17,
     "metadata": {},
     "output_type": "execute_result"
    }
   ],
   "source": [
    "df.shape"
   ]
  },
  {
   "cell_type": "markdown",
   "metadata": {},
   "source": [
    "With the function **df.info()** [[12]](https://www.kaggle.com/code/parulpandey/penguin-dataset-the-new-iris) we can prints information about the dataset.  includes data types, the count of non-null values, and memory usage. This output helps understand the data structure and whether there are any missing values.\n",
    "\n",
    "From the putput we can immediately see there are some miss value, for instance the non null value for the attribute sex is 333. As the total of the measures are 344 it mean there are 11 missing value for the sex field. \n",
    "data. \n",
    "It also tell us that 4 of the variables are type float, and this suggest Quantitative datas [[18]](https://careerfoundry.com/en/blog/data-analytics/difference-between-quantitative-and-qualitative-data/). Quantitatives data refer to any information that can be quantifield. Other 3 variables gave as a type \"Objective\". This suggest they may are qualitive data. Qualitative data is non-numeric and cannot be quantified or measured. Instead, it is descriptive in nature and conveyed using language or words, rather than numerical values"
   ]
  },
  {
   "cell_type": "code",
   "execution_count": 18,
   "metadata": {},
   "outputs": [
    {
     "name": "stdout",
     "output_type": "stream",
     "text": [
      "<class 'pandas.core.frame.DataFrame'>\n",
      "RangeIndex: 344 entries, 0 to 343\n",
      "Data columns (total 7 columns):\n",
      " #   Column              Non-Null Count  Dtype  \n",
      "---  ------              --------------  -----  \n",
      " 0   Species             344 non-null    object \n",
      " 1   Island              344 non-null    object \n",
      " 2   Bill_Length(mm)     342 non-null    float64\n",
      " 3   Bill_Depth(mm)      342 non-null    float64\n",
      " 4   Flipper_Length(mm)  342 non-null    float64\n",
      " 5   Body_Mass(g)        342 non-null    float64\n",
      " 6   Sex                 333 non-null    object \n",
      "dtypes: float64(4), object(3)\n",
      "memory usage: 18.9+ KB\n"
     ]
    }
   ],
   "source": [
    "df.info()"
   ]
  },
  {
   "cell_type": "markdown",
   "metadata": {},
   "source": [
    "We can further explore missing values by using a function called **missing_value_summary**. In this function, we extract the count of missing values for each column in the DataFrame df using the **isnull().sum()** function. [[19]]( https://dzone.com/articles/pandas-dataframe-functionsplaying-with-multiple-da).\n",
    "\n",
    "Next, the script calculates the percentage of missing values for each column relative to the total number of entries in **df**. It rounds the percentages to whole numbers, converts them to integers, and appends '%' symbols to represent them as strings [[20]](https://stackoverflow.com/questions/67922276/convert-pandas-dataframe-values-to-percentage#comment120055288_67922371).\n",
    "\n",
    "The calculated fields are combined into a table called **missing_values_table**, and column names are assigned for clarity. This table is returned by the function."
   ]
  },
  {
   "cell_type": "code",
   "execution_count": 19,
   "metadata": {},
   "outputs": [],
   "source": [
    "# Define a function to check missing value \n",
    "def missing_value_summary(df):\n",
    "    # count the number of missing value\n",
    "    missing_value_count = df.isnull().sum()\n",
    "    # calculate the percentage on the total\n",
    "    percentage_missing_value = (100 * df.isnull().sum() / len(df)).round(0).astype(int).astype(str) + '%'\n",
    "    #Create the table \n",
    "    missing_values_table = pd.concat([missing_value_count, percentage_missing_value], axis=1)\n",
    "    # assign columns name \n",
    "    missing_values_table.columns = [\"Missing Values\", \"Percentage Missing\"]\n",
    "    # return the missing value table \n",
    "    return missing_values_table"
   ]
  },
  {
   "cell_type": "markdown",
   "metadata": {},
   "source": [
    "\n",
    "If now we take a look to the **missing_values_table** we can see there are some missing value that need to be adress."
   ]
  },
  {
   "cell_type": "code",
   "execution_count": 20,
   "metadata": {},
   "outputs": [
    {
     "data": {
      "text/html": [
       "<div>\n",
       "<style scoped>\n",
       "    .dataframe tbody tr th:only-of-type {\n",
       "        vertical-align: middle;\n",
       "    }\n",
       "\n",
       "    .dataframe tbody tr th {\n",
       "        vertical-align: top;\n",
       "    }\n",
       "\n",
       "    .dataframe thead th {\n",
       "        text-align: right;\n",
       "    }\n",
       "</style>\n",
       "<table border=\"1\" class=\"dataframe\">\n",
       "  <thead>\n",
       "    <tr style=\"text-align: right;\">\n",
       "      <th></th>\n",
       "      <th>Missing Values</th>\n",
       "      <th>Percentage Missing</th>\n",
       "    </tr>\n",
       "  </thead>\n",
       "  <tbody>\n",
       "    <tr>\n",
       "      <th>Species</th>\n",
       "      <td>0</td>\n",
       "      <td>0%</td>\n",
       "    </tr>\n",
       "    <tr>\n",
       "      <th>Island</th>\n",
       "      <td>0</td>\n",
       "      <td>0%</td>\n",
       "    </tr>\n",
       "    <tr>\n",
       "      <th>Bill_Length(mm)</th>\n",
       "      <td>2</td>\n",
       "      <td>1%</td>\n",
       "    </tr>\n",
       "    <tr>\n",
       "      <th>Bill_Depth(mm)</th>\n",
       "      <td>2</td>\n",
       "      <td>1%</td>\n",
       "    </tr>\n",
       "    <tr>\n",
       "      <th>Flipper_Length(mm)</th>\n",
       "      <td>2</td>\n",
       "      <td>1%</td>\n",
       "    </tr>\n",
       "    <tr>\n",
       "      <th>Body_Mass(g)</th>\n",
       "      <td>2</td>\n",
       "      <td>1%</td>\n",
       "    </tr>\n",
       "    <tr>\n",
       "      <th>Sex</th>\n",
       "      <td>11</td>\n",
       "      <td>3%</td>\n",
       "    </tr>\n",
       "  </tbody>\n",
       "</table>\n",
       "</div>"
      ],
      "text/plain": [
       "                    Missing Values Percentage Missing\n",
       "Species                          0                 0%\n",
       "Island                           0                 0%\n",
       "Bill_Length(mm)                  2                 1%\n",
       "Bill_Depth(mm)                   2                 1%\n",
       "Flipper_Length(mm)               2                 1%\n",
       "Body_Mass(g)                     2                 1%\n",
       "Sex                             11                 3%"
      ]
     },
     "execution_count": 20,
     "metadata": {},
     "output_type": "execute_result"
    }
   ],
   "source": [
    "missing_value_summary(df)"
   ]
  },
  {
   "cell_type": "markdown",
   "metadata": {},
   "source": [
    "I will handle missing values in a DataFrame using scikit-learn's SimpleImputer [[21]](https://www.geeksforgeeks.org/ml-handle-missing-data-with-simple-imputer/) [[22]](https://www.analyticsvidhya.com/blog/2022/10/handling-missing-data-with-simpleimputer/). The imputation strategy is set to 'most frequent,' meaning it replaces missing values with the most frequently occurring value in each column.\n",
    "\n",
    "First we will need to import the SimpleImputer class from scikit-learn's sklearn.impute module"
   ]
  },
  {
   "cell_type": "code",
   "execution_count": 21,
   "metadata": {},
   "outputs": [],
   "source": [
    "from sklearn.impute import SimpleImputer"
   ]
  },
  {
   "cell_type": "markdown",
   "metadata": {},
   "source": [
    "Then, the script create an instance of **SimpleImputer** called **imputer** and set its imputation strategy to 'most_frequent'. In other words, for each column, it identifies the value that appears most often and uses that value to fill in any missing data points in that column [[12]](https://www.kaggle.com/code/parulpandey/penguin-dataset-the-new-iris)."
   ]
  },
  {
   "cell_type": "code",
   "execution_count": 22,
   "metadata": {},
   "outputs": [],
   "source": [
    "imputer = SimpleImputer(strategy='most_frequent')"
   ]
  },
  {
   "cell_type": "markdown",
   "metadata": {},
   "source": [
    "Finally, the imputation is use to fill missing values in the DataFrame **df**."
   ]
  },
  {
   "cell_type": "code",
   "execution_count": 46,
   "metadata": {},
   "outputs": [],
   "source": [
    "df.iloc[:,:] = imputer.fit_transform(df)"
   ]
  },
  {
   "cell_type": "markdown",
   "metadata": {},
   "source": [
    "If now we check the missing value using the function **missing_value_summary(df)** we can see that the missing valued have been replaced. The dataset is now ready for further analysis."
   ]
  },
  {
   "cell_type": "code",
   "execution_count": 24,
   "metadata": {},
   "outputs": [
    {
     "data": {
      "text/html": [
       "<div>\n",
       "<style scoped>\n",
       "    .dataframe tbody tr th:only-of-type {\n",
       "        vertical-align: middle;\n",
       "    }\n",
       "\n",
       "    .dataframe tbody tr th {\n",
       "        vertical-align: top;\n",
       "    }\n",
       "\n",
       "    .dataframe thead th {\n",
       "        text-align: right;\n",
       "    }\n",
       "</style>\n",
       "<table border=\"1\" class=\"dataframe\">\n",
       "  <thead>\n",
       "    <tr style=\"text-align: right;\">\n",
       "      <th></th>\n",
       "      <th>Missing Values</th>\n",
       "      <th>Percentage Missing</th>\n",
       "    </tr>\n",
       "  </thead>\n",
       "  <tbody>\n",
       "    <tr>\n",
       "      <th>Species</th>\n",
       "      <td>0</td>\n",
       "      <td>0%</td>\n",
       "    </tr>\n",
       "    <tr>\n",
       "      <th>Island</th>\n",
       "      <td>0</td>\n",
       "      <td>0%</td>\n",
       "    </tr>\n",
       "    <tr>\n",
       "      <th>Bill_Length(mm)</th>\n",
       "      <td>0</td>\n",
       "      <td>0%</td>\n",
       "    </tr>\n",
       "    <tr>\n",
       "      <th>Bill_Depth(mm)</th>\n",
       "      <td>0</td>\n",
       "      <td>0%</td>\n",
       "    </tr>\n",
       "    <tr>\n",
       "      <th>Flipper_Length(mm)</th>\n",
       "      <td>0</td>\n",
       "      <td>0%</td>\n",
       "    </tr>\n",
       "    <tr>\n",
       "      <th>Body_Mass(g)</th>\n",
       "      <td>0</td>\n",
       "      <td>0%</td>\n",
       "    </tr>\n",
       "    <tr>\n",
       "      <th>Sex</th>\n",
       "      <td>0</td>\n",
       "      <td>0%</td>\n",
       "    </tr>\n",
       "  </tbody>\n",
       "</table>\n",
       "</div>"
      ],
      "text/plain": [
       "                    Missing Values Percentage Missing\n",
       "Species                          0                 0%\n",
       "Island                           0                 0%\n",
       "Bill_Length(mm)                  0                 0%\n",
       "Bill_Depth(mm)                   0                 0%\n",
       "Flipper_Length(mm)               0                 0%\n",
       "Body_Mass(g)                     0                 0%\n",
       "Sex                              0                 0%"
      ]
     },
     "execution_count": 24,
     "metadata": {},
     "output_type": "execute_result"
    }
   ],
   "source": [
    "missing_value_summary(df)"
   ]
  },
  {
   "cell_type": "markdown",
   "metadata": {},
   "source": [
    "### **2.2 Penguins Dataset's Variables**"
   ]
  },
  {
   "cell_type": "markdown",
   "metadata": {},
   "source": [
    "#### **2.2.1. Types of Variables**\n",
    "\n",
    "##### ***Types of variable - introduction***"
   ]
  },
  {
   "cell_type": "markdown",
   "metadata": {},
   "source": [
    "<div>\n",
    "  <center><img src=\"https://media.licdn.com/dms/image/C5612AQEymLCHsH7p3g/article-inline_image-shrink_1000_1488/0/1618524937477?e=1703116800&v=beta&t=8CuupP8FaloLOVhRSv5GpU-anBd5hEKgLG-eMYD_dE4\" width=\"500\"></center>\n",
    "</div>"
   ]
  },
  {
   "cell_type": "markdown",
   "metadata": {},
   "source": [
    "<div>\n",
    "  <center><a href=\"https://www.linkedin.com/pulse/statistics-data-science-types-presentation-numerical-bhullar\"><i>[Fig. 4] - Types of Data</i></a></center>\n",
    "</div>"
   ]
  },
  {
   "cell_type": "markdown",
   "metadata": {},
   "source": [
    "In the realm of statistics and data analysis, variables are typically grouped into two primary types: qualitative (categorical) variables and quantitative (numeric) variables [[23]](https://careerfoundry.com/en/blog/data-analytics/difference-between-quantitative-and-qualitative-data/) [[24]](https://www.linkedin.com/pulse/statistics-data-science-types-presentation-numerical-bhullar). \n",
    "\n",
    "These broad categories can be further subdivided as follows [[25]](https://statistics.laerd.com/statistical-guides/types-of-variable.php) [[26]](https://www.scribbr.com/statistics/levels-of-measurement/):\n",
    "\n",
    "**Qualitative (Categorical) Variables**:\n",
    "Qualitative variables are used to represent categories or labels, describing attributes that lack numeric values. It cannot be measured or counted. It’s descriptive, expressed in terms of language rather than numerical values.\n",
    "\n",
    " They fall into two subcategories:\n",
    "\n",
    "1. ***Nominal Variables***:\n",
    "    - Nominal variables consist of categories with no inherent order or ranking. They can be labelled but nor ordered \n",
    "    - Examples include Gender (Male, Female, Other), Colors (Red, Blue, Green), and Types of Fruit (Apple, Banana, Orange).<br>\n",
    "    <br>\n",
    "\n",
    "2.  ***Ordinal Variables***:\n",
    "    - The cathegory used to classify the data have a clear, natural order and hierarchy.\n",
    "    - The intervals between categories may not be uniform or precisely defined. The scale does not define how close or far apart categories are with each other. \n",
    "    - Examples include Education Level (High School, Bachelor's, Master's, Ph.D.) and Customer Satisfaction (Poor, Fair, Good, Excellent).\n",
    "\n",
    "**Quantitative (Numeric) Variables**:\n",
    "Quantitative variables serve to represent measurable quantities and are expressed as numerical values. They can be further categorized as follows:\n",
    "\n",
    "1. ***Discrete Variables***:\n",
    "    - Discrete variables assume a finite set of distinct values, often comprising whole numbers. Whole numbers cannot be broken down.\n",
    "    - Examples include Number of Cars in a Parking Lot (1, 2, 3, ...) and Number of People in a Household (1, 2, 3, ...).<br>\n",
    "    <br>\n",
    "\n",
    "2. ***Continuous*** variables can be further categorized into two subtypes based on the measurement properties:\n",
    "\n",
    "    a. *Interval Variables*: Interval variables have all the properties of continuous variables. The difference between values has a consistent, uniform interval but there is no true zero point.\n",
    "    Examples include Temperature in Celsius or Fahrenheit, where 0 degrees does not represent the absence of temperature.\n",
    "\n",
    "    b. *Ratio Variables*: Ratio variables have the properties of interval variables, but they also have a meaningful zero point. The presence of a zero point indicates the absence of the variable being measured.\n",
    "    Examples include Height (in meters or feet), Weight (in kilograms or pounds), and Income (measured in currency units)."
   ]
  },
  {
   "cell_type": "markdown",
   "metadata": {},
   "source": [
    "##### ***Types of variable - Palmer Penguins Data set***"
   ]
  },
  {
   "cell_type": "markdown",
   "metadata": {},
   "source": [
    "The Penguins dataset is composed by 7 variables that can be devided in 2 main categories: \n",
    "\n",
    "        * Categorical / Nominal\n",
    "        * Numerical / Continuos / Ratio"
   ]
  },
  {
   "cell_type": "markdown",
   "metadata": {},
   "source": [
    "    1. Categorical - Nominal \n",
    "The dataset is composed of three variables that are categorical and nominal, representing distinct, non-ordered categories: Species, Island and Sex."
   ]
  },
  {
   "cell_type": "markdown",
   "metadata": {},
   "source": [
    "When dealing with categorical data, which consists of non-numeric categories or labels that represent distinct, unordered groups or classes,  some useful tool to understand the dataset[[27]](https://careerfoundry.com/en/blog/data-analytics/data-levels-of-measurement/#5-interval-data-examples-and-analysis):\n",
    "\n",
    "- Frequency Distribution: A tabulated summary, often presented as a pivot table. It gives you a headcount for each category, revealing, for example, how many Penguns belong to a specific species and combined it with another variables.\n",
    "\n",
    "- Mode: This is like finding the winner among the categories. It's the one that appears most frequently, the crowd favorite, or the top choice within your data.\n",
    "\n",
    "In the context of categorical - nominal  data, a frequency distribution table (like a pivot table) offers a compact snapshot, showing you the counts for each category. These counts can also be presented as percentages, giving you a sense of the proportion of the entire dataset that belongs to each category."
   ]
  },
  {
   "cell_type": "markdown",
   "metadata": {},
   "source": [
    "            1.1. Species\n",
    "\n",
    "It represents the species of penguins, which can be one of three types: Adelie, Gentoo, or Chinstrap. \n",
    "\n",
    "A good way to visualize a categorical-nominal variable is count the observations for each categories. The following code calculates the counts and normalized counts (rounded to two decimal places as percentages) of unique values in the 'Species' column of the DataFrame **df** using the **value_counts()** function [[28]](https://www.datacamp.com/tutorial/categorical-data), [[29]](https://pandas.pydata.org/docs/reference/api/pandas.Series.value_counts.html) . It then combines these values into a DataFrame with columns **Count** and **%**."
   ]
  },
  {
   "cell_type": "code",
   "execution_count": 53,
   "metadata": {},
   "outputs": [
    {
     "data": {
      "text/html": [
       "<div>\n",
       "<style scoped>\n",
       "    .dataframe tbody tr th:only-of-type {\n",
       "        vertical-align: middle;\n",
       "    }\n",
       "\n",
       "    .dataframe tbody tr th {\n",
       "        vertical-align: top;\n",
       "    }\n",
       "\n",
       "    .dataframe thead th {\n",
       "        text-align: right;\n",
       "    }\n",
       "</style>\n",
       "<table border=\"1\" class=\"dataframe\">\n",
       "  <thead>\n",
       "    <tr style=\"text-align: right;\">\n",
       "      <th></th>\n",
       "      <th>Count</th>\n",
       "      <th>%</th>\n",
       "    </tr>\n",
       "    <tr>\n",
       "      <th>Species</th>\n",
       "      <th></th>\n",
       "      <th></th>\n",
       "    </tr>\n",
       "  </thead>\n",
       "  <tbody>\n",
       "    <tr>\n",
       "      <th>Adelie</th>\n",
       "      <td>152</td>\n",
       "      <td>44%</td>\n",
       "    </tr>\n",
       "    <tr>\n",
       "      <th>Gentoo</th>\n",
       "      <td>124</td>\n",
       "      <td>36%</td>\n",
       "    </tr>\n",
       "    <tr>\n",
       "      <th>Chinstrap</th>\n",
       "      <td>68</td>\n",
       "      <td>20%</td>\n",
       "    </tr>\n",
       "  </tbody>\n",
       "</table>\n",
       "</div>"
      ],
      "text/plain": [
       "           Count    %\n",
       "Species              \n",
       "Adelie       152  44%\n",
       "Gentoo       124  36%\n",
       "Chinstrap     68  20%"
      ]
     },
     "execution_count": 53,
     "metadata": {},
     "output_type": "execute_result"
    }
   ],
   "source": [
    "# Count the occurrences of each unique value in the 'Species' column\n",
    "#https://www.datacamp.com/tutorial/categorical-data\n",
    "count_species = df[['Species']].value_counts()\n",
    "# Calculate the normalized counts, round them to two decimal places, convert to integers,\n",
    "# and add '%' to represent them as percentages\n",
    "#https://pandas.pydata.org/docs/reference/api/pandas.Series.value_counts.html\n",
    "normalize_species = (df[['Species']].value_counts(normalize=True).round(2)*100).astype(int).astype(str) + '%'\n",
    "# Concatenate the 'count_species' and 'normalize_species' Series into a DataFrame\n",
    "species_table = pd.concat([count_species, normalize_species], axis=1)\n",
    "# Rename the columns to 'Count' and '%'\n",
    "species_table.columns = ['Count', '%']\n",
    "species_table\n"
   ]
  },
  {
   "cell_type": "markdown",
   "metadata": {},
   "source": [
    "As per the above, the majority of observations were made on Adelie and Gentoo Islands."
   ]
  },
  {
   "cell_type": "markdown",
   "metadata": {},
   "source": [
    "            1.2 Islands\n",
    "\n",
    "The name of the island within the Palmer Archipelago where the penguins was sighted: Biscoe, Dream, and Torgersen.\n",
    "\n",
    "We can double check also for the variable Island the count for each of them."
   ]
  },
  {
   "cell_type": "code",
   "execution_count": 55,
   "metadata": {},
   "outputs": [
    {
     "data": {
      "text/html": [
       "<div>\n",
       "<style scoped>\n",
       "    .dataframe tbody tr th:only-of-type {\n",
       "        vertical-align: middle;\n",
       "    }\n",
       "\n",
       "    .dataframe tbody tr th {\n",
       "        vertical-align: top;\n",
       "    }\n",
       "\n",
       "    .dataframe thead th {\n",
       "        text-align: right;\n",
       "    }\n",
       "</style>\n",
       "<table border=\"1\" class=\"dataframe\">\n",
       "  <thead>\n",
       "    <tr style=\"text-align: right;\">\n",
       "      <th></th>\n",
       "      <th>Count</th>\n",
       "      <th>%</th>\n",
       "    </tr>\n",
       "    <tr>\n",
       "      <th>Island</th>\n",
       "      <th></th>\n",
       "      <th></th>\n",
       "    </tr>\n",
       "  </thead>\n",
       "  <tbody>\n",
       "    <tr>\n",
       "      <th>Biscoe</th>\n",
       "      <td>168</td>\n",
       "      <td>49%</td>\n",
       "    </tr>\n",
       "    <tr>\n",
       "      <th>Dream</th>\n",
       "      <td>124</td>\n",
       "      <td>36%</td>\n",
       "    </tr>\n",
       "    <tr>\n",
       "      <th>Torgersen</th>\n",
       "      <td>52</td>\n",
       "      <td>15%</td>\n",
       "    </tr>\n",
       "  </tbody>\n",
       "</table>\n",
       "</div>"
      ],
      "text/plain": [
       "           Count    %\n",
       "Island               \n",
       "Biscoe       168  49%\n",
       "Dream        124  36%\n",
       "Torgersen     52  15%"
      ]
     },
     "execution_count": 55,
     "metadata": {},
     "output_type": "execute_result"
    }
   ],
   "source": [
    "# Count the occurrences of each unique value in the 'Island' column\n",
    "count_islands = df[['Island']].value_counts()\n",
    "# Calculate the normalized counts, round them to two decimal places, convert to integers,\n",
    "# and add '%' to represent them as percentages\n",
    "normalize_islands = (df[['Island']].value_counts(normalize=True).round(2)*100).astype(int).astype(str) + '%'\n",
    "# Concatenate the 'count_species' and 'normalize_species' Series into a DataFrame\n",
    "islands_table = pd.concat([count_islands, normalize_islands], axis=1)\n",
    "# Rename the columns to 'Count' and '%'\n",
    "islands_table.columns = ['Count', '%']\n",
    "islands_table"
   ]
  },
  {
   "cell_type": "markdown",
   "metadata": {},
   "source": [
    "            1.3 Sex \n",
    "\n",
    "Sex can be female or male."
   ]
  },
  {
   "cell_type": "code",
   "execution_count": 56,
   "metadata": {},
   "outputs": [
    {
     "data": {
      "text/html": [
       "<div>\n",
       "<style scoped>\n",
       "    .dataframe tbody tr th:only-of-type {\n",
       "        vertical-align: middle;\n",
       "    }\n",
       "\n",
       "    .dataframe tbody tr th {\n",
       "        vertical-align: top;\n",
       "    }\n",
       "\n",
       "    .dataframe thead th {\n",
       "        text-align: right;\n",
       "    }\n",
       "</style>\n",
       "<table border=\"1\" class=\"dataframe\">\n",
       "  <thead>\n",
       "    <tr style=\"text-align: right;\">\n",
       "      <th></th>\n",
       "      <th>Count</th>\n",
       "      <th>%</th>\n",
       "    </tr>\n",
       "    <tr>\n",
       "      <th>Sex</th>\n",
       "      <th></th>\n",
       "      <th></th>\n",
       "    </tr>\n",
       "  </thead>\n",
       "  <tbody>\n",
       "    <tr>\n",
       "      <th>Male</th>\n",
       "      <td>179</td>\n",
       "      <td>52%</td>\n",
       "    </tr>\n",
       "    <tr>\n",
       "      <th>Female</th>\n",
       "      <td>165</td>\n",
       "      <td>48%</td>\n",
       "    </tr>\n",
       "  </tbody>\n",
       "</table>\n",
       "</div>"
      ],
      "text/plain": [
       "        Count    %\n",
       "Sex               \n",
       "Male      179  52%\n",
       "Female    165  48%"
      ]
     },
     "execution_count": 56,
     "metadata": {},
     "output_type": "execute_result"
    }
   ],
   "source": [
    "# Count the occurrences of each unique value in the 'Island' column\n",
    "count_sex = df[['Sex']].value_counts()\n",
    "# Calculate the normalized counts, round them to two decimal places, convert to integers,\n",
    "# and add '%' to represent them as percentages\n",
    "normalize_sex = (df[['Sex']].value_counts(normalize=True).round(2)*100).astype(int).astype(str) + '%'\n",
    "# Concatenate the 'count_species' and 'normalize_species' Series into a DataFrame\n",
    "sex_table = pd.concat([count_sex, normalize_sex], axis=1)\n",
    "# Rename the columns to 'Count' and '%'\n",
    "sex_table.columns = ['Count', '%']\n",
    "sex_table"
   ]
  },
  {
   "cell_type": "markdown",
   "metadata": {},
   "source": [
    "    2. Numerical - Continuos - Ratio \n",
    "The dataset is composed of four  variables that are nominal, continuos and ratio.\n",
    "\n",
    "Continuous numerical variables can take any real numerical value within a certain range and can be measured with great precision. Ratio variables had have a meaningful zero point, which indicates the absence of the quantity being measured."
   ]
  },
  {
   "cell_type": "markdown",
   "metadata": {},
   "source": [
    "For ratio data, we can utilize various descriptive statistics to summarize and explore data. These statistics apply when working with numerical data that has a starting point at 0.\n",
    "\n",
    "Here are some of the most useful tools [[27]](https://careerfoundry.com/en/blog/data-analytics/data-levels-of-measurement/#5-interval-data-examples-and-analysis):\n",
    "\n",
    "- Frequency Distribution: This tool provides a clear overview of how frequently each value appears, whether expressed as a count or a percentage.\n",
    "\n",
    "- Mode, Median, and Mean: These metrics aid in identifying central tendencies. The mode is the most frequently occurring value, the median is the middle value, and the mean is the average, calculated by adding all values together and dividing by the total number of values.\n",
    "\n",
    "- Range, Standard Deviation, Variance and Coefficient of variation: These measures offer insights into the variability within your dataset. Range is calculated by subtracting the lowest value from the highest. Standard deviation indicates the typical amount by which individual values deviate from the mean. Variance assesses how much the numbers in your dataset deviate from their average. The coeficient of Variation is calculated by dividing the standard deviation by the mean."
   ]
  },
  {
   "cell_type": "markdown",
   "metadata": {},
   "source": [
    "Those 4 variables are:\n"
   ]
  },
  {
   "cell_type": "markdown",
   "metadata": {},
   "source": [
    "| Variables      | Units | Description<br>               |\n",
    "| -------------- | ----- | ----------------------------- |\n",
    "| Bill Length    | mm    | Length of a penguin's bill.   |\n",
    "| Bill Depth     | mm    | Depth of a penguin's bill.    |\n",
    "| Flipper Length | mm    | Length of a penguin's flipper |\n",
    "| Body Mass      | gg    | Body mass of a penguin        |."
   ]
  },
  {
   "cell_type": "code",
   "execution_count": 60,
   "metadata": {},
   "outputs": [
    {
     "data": {
      "text/html": [
       "<div>\n",
       "<style scoped>\n",
       "    .dataframe tbody tr th:only-of-type {\n",
       "        vertical-align: middle;\n",
       "    }\n",
       "\n",
       "    .dataframe tbody tr th {\n",
       "        vertical-align: top;\n",
       "    }\n",
       "\n",
       "    .dataframe thead th {\n",
       "        text-align: right;\n",
       "    }\n",
       "</style>\n",
       "<table border=\"1\" class=\"dataframe\">\n",
       "  <thead>\n",
       "    <tr style=\"text-align: right;\">\n",
       "      <th></th>\n",
       "      <th>Bill_Length(mm)</th>\n",
       "      <th>Bill_Depth(mm)</th>\n",
       "      <th>Flipper_Length(mm)</th>\n",
       "      <th>Body_Mass(g)</th>\n",
       "    </tr>\n",
       "  </thead>\n",
       "  <tbody>\n",
       "    <tr>\n",
       "      <th>count</th>\n",
       "      <td>344.00</td>\n",
       "      <td>344.00</td>\n",
       "      <td>344.00</td>\n",
       "      <td>344.00</td>\n",
       "    </tr>\n",
       "    <tr>\n",
       "      <th>mean</th>\n",
       "      <td>43.91</td>\n",
       "      <td>17.15</td>\n",
       "      <td>200.85</td>\n",
       "      <td>4199.42</td>\n",
       "    </tr>\n",
       "    <tr>\n",
       "      <th>std</th>\n",
       "      <td>5.45</td>\n",
       "      <td>1.97</td>\n",
       "      <td>14.05</td>\n",
       "      <td>800.20</td>\n",
       "    </tr>\n",
       "    <tr>\n",
       "      <th>min</th>\n",
       "      <td>32.10</td>\n",
       "      <td>13.10</td>\n",
       "      <td>172.00</td>\n",
       "      <td>2700.00</td>\n",
       "    </tr>\n",
       "    <tr>\n",
       "      <th>25%</th>\n",
       "      <td>39.28</td>\n",
       "      <td>15.60</td>\n",
       "      <td>190.00</td>\n",
       "      <td>3550.00</td>\n",
       "    </tr>\n",
       "    <tr>\n",
       "      <th>50%</th>\n",
       "      <td>44.25</td>\n",
       "      <td>17.30</td>\n",
       "      <td>197.00</td>\n",
       "      <td>4025.00</td>\n",
       "    </tr>\n",
       "    <tr>\n",
       "      <th>75%</th>\n",
       "      <td>48.50</td>\n",
       "      <td>18.70</td>\n",
       "      <td>213.00</td>\n",
       "      <td>4750.00</td>\n",
       "    </tr>\n",
       "    <tr>\n",
       "      <th>max</th>\n",
       "      <td>59.60</td>\n",
       "      <td>21.50</td>\n",
       "      <td>231.00</td>\n",
       "      <td>6300.00</td>\n",
       "    </tr>\n",
       "  </tbody>\n",
       "</table>\n",
       "</div>"
      ],
      "text/plain": [
       "       Bill_Length(mm)  Bill_Depth(mm)  Flipper_Length(mm)  Body_Mass(g)\n",
       "count           344.00          344.00              344.00        344.00\n",
       "mean             43.91           17.15              200.85       4199.42\n",
       "std               5.45            1.97               14.05        800.20\n",
       "min              32.10           13.10              172.00       2700.00\n",
       "25%              39.28           15.60              190.00       3550.00\n",
       "50%              44.25           17.30              197.00       4025.00\n",
       "75%              48.50           18.70              213.00       4750.00\n",
       "max              59.60           21.50              231.00       6300.00"
      ]
     },
     "execution_count": 60,
     "metadata": {},
     "output_type": "execute_result"
    }
   ],
   "source": [
    "# Generate descriptive statistics on Numerical - continuos - ratio variables \n",
    "df.describe().round(2)"
   ]
  },
  {
   "cell_type": "markdown",
   "metadata": {},
   "source": []
  },
  {
   "cell_type": "markdown",
   "metadata": {},
   "source": [
    "**Sources**"
   ]
  },
  {
   "cell_type": "code",
   "execution_count": null,
   "metadata": {},
   "outputs": [],
   "source": []
  },
  {
   "cell_type": "markdown",
   "metadata": {},
   "source": [
    "<details>\n",
    "       <summary>References:</summary>\n",
    "              <p>\n",
    "\n",
    "Task 1\n",
    "- [1] [How to take integer input in Python?](https://www.geeksforgeeks.org/how-to-take-integer-input-in-python/)\n",
    "- [2] [Python while Loop](https://www.programiz.com/python-programming/while-loop)\n",
    "- [3] [Python Program to Check if a Number is Odd or Even](https://www.toppr.com/guides/python-guide/examples/python-examples/python-program-to-check-if-a-number-is-odd-or-even/)\n",
    "- [4] [Python Map – How to Map a List in Python 3.0, With Example Function Code](https://www.freecodecamp.org/news/python-map-function-how-to-map-a-list-in-python-3-0-with-example-code/)\n",
    "- [5] [Python max() Function](https://www.w3schools.com/python/ref_func_max.asp)\n",
    "- [6] [Python If ... Else](https://www.w3schools.com/python/python_conditions.asp)\n"
   ]
  },
  {
   "cell_type": "markdown",
   "metadata": {},
   "source": [
    "<details>\n",
    "    <summary>Other resourcers consulted:</summary>\n",
    "           <p>\n",
    "\n",
    "Task 1\n",
    "- [Creating Links in Markdown](https://anvilproject.org/guides/content/creating-links)\n",
    "- [Python Tutorial: How to take an integer input in Python](https://pieriantraining.com/python-tutorial-how-to-take-an-integer-input-in-python/)\n",
    "- [Python For Loops](https://www.w3schools.com/python/python_for_loops.asp)\n",
    "- [Python List max() Method](https://www.tutorialspoint.com/python/list_max.htm)\n",
    "- [How To add Elements to a List in Python](https://www.digitalocean.com/community/tutorials/python-add-to-list)\n",
    "- [LaTeX/Mathematics](ttps://en.wikibooks.org/wiki/LaTeX/Mathematics)"
   ]
  },
  {
   "cell_type": "markdown",
   "metadata": {},
   "source": [
    "***\n",
    "### End"
   ]
  }
 ],
 "metadata": {
  "kernelspec": {
   "display_name": "base",
   "language": "python",
   "name": "python3"
  },
  "language_info": {
   "codemirror_mode": {
    "name": "ipython",
    "version": 3
   },
   "file_extension": ".py",
   "mimetype": "text/x-python",
   "name": "python",
   "nbconvert_exporter": "python",
   "pygments_lexer": "ipython3",
   "version": "3.11.4"
  },
  "orig_nbformat": 4
 },
 "nbformat": 4,
 "nbformat_minor": 2
}
