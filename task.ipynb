{
 "cells": [
  {
   "cell_type": "markdown",
   "metadata": {},
   "source": [
    "# Fundamental of Data Analysis Tasks\n",
    "\n",
    "**Author: Cecilia Pastore**\n",
    "\n",
    "***\n"
   ]
  },
  {
   "cell_type": "markdown",
   "metadata": {},
   "source": [
    "### Task 1\n",
    "\n",
    "**Task 1 - The Collatz conjecture**\n",
    "\n",
    "<details>\n",
    "    <summary>Task requested:</summary>\n",
    "           <p>\n",
    "\n",
    "The Collatz conjecture1 is a famous unsolved problem in mathematics. The problem is to prove that if you start with any positive integer x and repeatedly apply the function f(x) below, you always get stuck in the repeating sequence 1, 4, 2, 1, 4, 2, . . .\n",
    "$$\n",
    " f(n) =\n",
    "  \\begin{cases}\n",
    "    n/2       & \\quad \\text{if } n \\text{ is even}\\\\\n",
    "    -(n+1)/2  & \\quad \\text{if } n \\text{ is odd}\n",
    "  \\end{cases}\n",
    "$$\n",
    "\n",
    "\n",
    "For example, starting with the value 10, which is an even number,we divide it by 2 to get 5. Then 5 is an odd number so, we mul\u0002tiply by 3 and add 1 to get 16. Then we repeatedly divide by 2 to get 8, 4, 2, 1. Once we are at 1, we go back to 4 and get stuck in the repeating sequence 4, 2, 1 as we suspected.\n",
    "\n",
    "Your task is to verify, using Python, that the conjecture is true for the first 10,000 positive integers.\n",
    "\n",
    "</p>\n",
    "</details>"
   ]
  },
  {
   "cell_type": "markdown",
   "metadata": {},
   "source": [
    "I want to devide the task in 2 part:\n",
    "1. in the first part I will define a function f(x) and a function collatz(x) to check the collatz sequence for a number imput by the user \n",
    "\n",
    "2. in the second part, I'll use a for loop to check the Collatz sequence for each number from 1 to 10,000 to verify that the sequence ends up at 1. "
   ]
  },
  {
   "cell_type": "markdown",
   "metadata": {},
   "source": [
    "**1.1 Verify the collatz conjecture for a given number**"
   ]
  },
  {
   "cell_type": "markdown",
   "metadata": {},
   "source": [
    "<details>\n",
    "    <summary>How it works:</summary>\n",
    "           <p>\n",
    "           \n",
    "1.  The script first prompts the user to enter a positive number. A while loop is used to validate whether the user inputs a positive number. If a positive number is provided, the script exits the while loop. However, if the user enters a negative number, the script will continue to prompt the user to enter a positive number until one is provided.\n",
    "\n",
    "2. The first function, f(x), is defined. This function checks whether the number is even or odd and, based on that, performs a specific calculation.\n",
    "    If the number is even, the script divides it by 2 and appends it to the \"numbers\" list.\n",
    "    If the number is odd, the script multiplies the number by 3 and adds 1.\n",
    "   \n",
    "3. Finally, the collatz(x) function is responsible for computing and presenting the Collatz sequence for the given number.\n",
    "\n",
    "<details>\n",
    "<p>"
   ]
  },
  {
   "cell_type": "markdown",
   "metadata": {},
   "source": [
    "*Code explanation*"
   ]
  },
  {
   "cell_type": "markdown",
   "metadata": {},
   "source": [
    "[Prompt the user to enter a positive number](https://www.geeksforgeeks.org/how-to-take-integer-input-in-python/) which is then converted in an integer and stored in the number variable."
   ]
  },
  {
   "cell_type": "code",
   "execution_count": 35,
   "metadata": {},
   "outputs": [],
   "source": [
    "number = int(input(\"Please Enter a positive number: \"))"
   ]
  },
  {
   "cell_type": "markdown",
   "metadata": {},
   "source": [
    "A first [while loop](https://www.programiz.com/python-programming/while-loop) is used to ensure that the user enters a positive number. If the number entered is less than or equal to 0, the loop will execute and prompt the user to enter a positive number again."
   ]
  },
  {
   "cell_type": "code",
   "execution_count": 36,
   "metadata": {},
   "outputs": [],
   "source": [
    "while number <=0:\n",
    "    print(\"You didn't enter a positive number!\")\n",
    "    number = int(input(\"Please Enter a positive number: \"))"
   ]
  },
  {
   "cell_type": "markdown",
   "metadata": {},
   "source": [
    "Define a  function **f(x)** that takes an input integer x and [checks whether x is even or odd](https://www.toppr.com/guides/python-guide/examples/python-examples/python-program-to-check-if-a-number-is-odd-or-even/) using the modulo operator %. If x is even, it divides x by 2 using integer division (//) and returns the result. If x is odd, it performs the operation 3 * x + 1 and returns the result."
   ]
  },
  {
   "cell_type": "code",
   "execution_count": 37,
   "metadata": {},
   "outputs": [],
   "source": [
    "def f(x):\n",
    "    # if f is even, devide by two.\n",
    "    if x % 2 == 0:\n",
    "        return x // 2 \n",
    "    else: \n",
    "        # If x is odd, perform the operation (3 * x) + 1 and return the result\n",
    "        return (3 *x) +1\n",
    "   "
   ]
  },
  {
   "cell_type": "markdown",
   "metadata": {},
   "source": [
    "Define the **collatz(x)** function. The collatz function use the previous function to print the collatz sequence strating from x and continuing until the values reaches 1. During the loop, it prints each value of x in the sequence separated by hyphens. Finally, it prints the value 1 to indicate the end of the Collatz sequence."
   ]
  },
  {
   "cell_type": "code",
   "execution_count": 38,
   "metadata": {},
   "outputs": [],
   "source": [
    "def collatz(x):\n",
    "    # Print a message indicating that we are testing the Collatz sequence with the initial value x\n",
    "    print(f'Testing Collatz with initial value {x}')\n",
    "    # while loop until x == 1\n",
    "    while x != 1:\n",
    "        # print the current value of x and update it using the collatz function \n",
    "        print(x, end= \"-\")\n",
    "        x = f(x)\n",
    "    # Print the final value (1)\n",
    "    print(x)"
   ]
  },
  {
   "cell_type": "markdown",
   "metadata": {},
   "source": [
    "Finally run the function **collatz(x)** based on the number entered by the user"
   ]
  },
  {
   "cell_type": "code",
   "execution_count": 39,
   "metadata": {},
   "outputs": [
    {
     "name": "stdout",
     "output_type": "stream",
     "text": [
      "Testing Collatz with initial value 8\n",
      "8-4-2-1\n"
     ]
    }
   ],
   "source": [
    "collatz(number)"
   ]
  },
  {
   "cell_type": "markdown",
   "metadata": {},
   "source": [
    "**1.2 Verify that the collatz's conjecture is true for the first 10,000 positive integers.**"
   ]
  },
  {
   "cell_type": "markdown",
   "metadata": {},
   "source": [
    "<details>\n",
    "    <summary>How it works:</summary>\n",
    "           <p>\n",
    "1. The script use the same function defined in task 1.1, **f(X)** to perform a specific calculation if the number is odd or even.\n",
    "\n",
    "2. A list called **collatz_list** is initializes to store the result of Collatz sequences for a range of positive integers.\n",
    "\n",
    "3. The function **collatz_sec(x)** is defined. This function applies the Collatz sequence rules to a given positive integer x, iteratively updating it until it reaches the value 1, and then returns that final value.\n",
    "\n",
    "4. A loop iterates through positive integers from 1 to 10,000, to calculate the Collatz sequence for each integer and stores the final value in the **collatz_list**.\n",
    "\n",
    "5. The highest value within the **collatz_list** is identifies. If this max value is 1, the collatz's conjecture is verified and the result it is printed\n",
    "\n",
    "<details>\n",
    "<p>"
   ]
  },
  {
   "cell_type": "markdown",
   "metadata": {},
   "source": [
    "*Code Explanation*"
   ]
  },
  {
   "cell_type": "markdown",
   "metadata": {},
   "source": [
    "The function **collatz_sec(x)** calculates the Collatz sequence for a given positive integer x by iteratively applying the function f(x) until x reaches the final value of 1. It then returns this final value of 1 as per the Collatz sequence rule."
   ]
  },
  {
   "cell_type": "code",
   "execution_count": 40,
   "metadata": {},
   "outputs": [],
   "source": [
    "def collatz_sec(x):\n",
    "    # Keep running the Collatz sequence until x reaches 1\n",
    "    while x != 1:\n",
    "        x = f(x)  # Apply the function f(x) to update x\n",
    "    return x  # Return the final value of x, which is 1 for the Collatz sequence\n"
   ]
  },
  {
   "cell_type": "markdown",
   "metadata": {},
   "source": [
    "The list **collatz_list** is defined as empty."
   ]
  },
  {
   "cell_type": "code",
   "execution_count": 41,
   "metadata": {},
   "outputs": [],
   "source": [
    "collatz_list = []  # Initialize an empty list to store results"
   ]
  },
  {
   "cell_type": "markdown",
   "metadata": {},
   "source": [
    "A for loop is used to calculate the Collatz sequence for integers from 1 to 10,000 and [stores the results in collatz_list](https://www.freecodecamp.org/news/python-map-function-how-to-map-a-list-in-python-3-0-with-example-code/). "
   ]
  },
  {
   "cell_type": "code",
   "execution_count": 42,
   "metadata": {},
   "outputs": [],
   "source": [
    "# Loop through positive integers from 1 to 10,000\n",
    "for i in range(1, 10001):\n",
    "    collatz_list.append(collatz_sec(i))  # Calculate the Collatz sequence for i and store the result"
   ]
  },
  {
   "cell_type": "markdown",
   "metadata": {},
   "source": [
    "A [max()](https://www.w3schools.com/python/ref_func_max.asp) function is used to return the item with the highest value in the **collatz_list** and this is stored in the variable **max_number**."
   ]
  },
  {
   "cell_type": "code",
   "execution_count": null,
   "metadata": {},
   "outputs": [],
   "source": [
    "max_number = max(collatz_list)  # Find the maximum value in the collatz_list"
   ]
  },
  {
   "cell_type": "markdown",
   "metadata": {},
   "source": [
    "Finally, an [if statement](https://www.w3schools.com/python/python_conditions.asp) checks whether the maximum value is equal to 1, which is a key condition to verify Collatz's conjecture. If it is 1, it confirms the conjecture's truth for the specified range of positive integers and prints a corresponding message. Otherwise, it prints a message indicating that the conjecture is not true."
   ]
  },
  {
   "cell_type": "code",
   "execution_count": 43,
   "metadata": {},
   "outputs": [
    {
     "name": "stdout",
     "output_type": "stream",
     "text": [
      "The collatz's conjecture is true for the first 10,000 positive integers.\n"
     ]
    }
   ],
   "source": [
    "\n",
    "if max_number == 1:\n",
    "    print(\"The collatz's conjecture is true for the first 10,000 positive integers.\")\n",
    "else:\n",
    "    print(\"The collatz's conjecture is not true for the first 10,000 positive integers.\")"
   ]
  },
  {
   "cell_type": "markdown",
   "metadata": {},
   "source": [
    "<details>\n",
    "    <summary>Sources:</summary>\n",
    "           <p>\n",
    "\n",
    "- [How to take integer input in Python?](https://www.geeksforgeeks.org/how-to-take-integer-input-in-python/)\n",
    "- [Creating Links in Markdown](https://anvilproject.org/guides/content/creating-links)\n",
    "- [Python Tutorial: How to take an integer input in Python](https://pieriantraining.com/python-tutorial-how-to-take-an-integer-input-in-python/)\n",
    "- [Python Program to Check if a Number is Odd or Even](https://www.toppr.com/guides/python-guide/examples/python-examples/python-program-to-check-if-a-number-is-odd-or-even/)\n",
    "- [Python For Loops](https://www.w3schools.com/python/python_for_loops.asp)\n",
    "- [Python List max() Method](https://www.tutorialspoint.com/python/list_max.htm)\n",
    "- [How To add Elements to a List in Python](https://www.digitalocean.com/community/tutorials/python-add-to-list)\n",
    "- [https://en.wikibooks.org/wiki/LaTeX/Mathematics](ttps://en.wikibooks.org/wiki/LaTeX/Mathematics)\n",
    "-[Python Map – How to Map a List in Python 3.0, With Example Function Code](https://www.freecodecamp.org/news/python-map-function-how-to-map-a-list-in-python-3-0-with-example-code/)"
   ]
  },
  {
   "cell_type": "markdown",
   "metadata": {},
   "source": [
    "***\n",
    "### End"
   ]
  }
 ],
 "metadata": {
  "kernelspec": {
   "display_name": "base",
   "language": "python",
   "name": "python3"
  },
  "language_info": {
   "codemirror_mode": {
    "name": "ipython",
    "version": 3
   },
   "file_extension": ".py",
   "mimetype": "text/x-python",
   "name": "python",
   "nbconvert_exporter": "python",
   "pygments_lexer": "ipython3",
   "version": "3.11.4"
  },
  "orig_nbformat": 4
 },
 "nbformat": 4,
 "nbformat_minor": 2
}
