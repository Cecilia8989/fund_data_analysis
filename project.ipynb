{
 "cells": [
  {
   "cell_type": "markdown",
   "metadata": {},
   "source": [
    "# Fundamentals of Data Analysis - Project \n",
    "\n",
    "**Author: Cecilia Pastore**\n",
    "\n",
    "***\n"
   ]
  },
  {
   "cell_type": "markdown",
   "metadata": {},
   "source": [
    "### 1. Introduction"
   ]
  },
  {
   "cell_type": "markdown",
   "metadata": {},
   "source": [
    "<details>\n",
    "    <summary>Task requested:</summary>\n",
    "           <p>\n",
    "           \n",
    "Project\n",
    "\n",
    "• The project is to create a notebook investigating the variables and data points within the well-known iris flower data set associated with Ronald A Fisher.\n",
    "\n",
    "• In the notebook, you should discuss the classification of each variable within the data set according to common variable types and scales of measurement in mathematics, statistics, and Python.\n",
    "\n",
    "• Select, demonstrate, and explain the most appropriate summary statistics to describe each variable.\n",
    "\n",
    "• Select, demonstrate, and explain the most appropriate plot(s) for each variable.\n",
    "\n",
    "• The notebook should follow a cohesive narrative about the data set.\n"
   ]
  },
  {
   "cell_type": "markdown",
   "metadata": {},
   "source": [
    "### 2. Irish Flower Dataset"
   ]
  },
  {
   "cell_type": "markdown",
   "metadata": {},
   "source": [
    "The iris flower dataset is a well-known dataset in the field of data science, and it is often used to illustrate basic data analysis, visualization techniques and machine learning . The Iris Dataset is considered as the \"Hello World\" for data science."
   ]
  },
  {
   "cell_type": "markdown",
   "metadata": {},
   "source": [
    "<div>\n",
    "  <center><img src=\"https://machinelearninghd.com/wp-content/uploads/2021/03/iris-dataset.png\" width=\"600\"></center>\n",
    "</div>\n",
    "\n",
    "<div>\n",
    "  <center><a href=\"https://machinelearninghd.com/iris-dataset-uci-machine-learning-repository-project/\"><i>[Fig. 1] - Iris Flowers </i></a></center>\n",
    "</div>"
   ]
  },
  {
   "cell_type": "markdown",
   "metadata": {},
   "source": [
    "The dataset contains measurements of the sepal length, sepal width, petal length, and petal width for 150 iris flowers belonging to three different species: Iris setosa, Iris versicolor, and Iris virginica. Fifty samples are collected for each species with no null value."
   ]
  },
  {
   "cell_type": "markdown",
   "metadata": {},
   "source": [
    "<div>\n",
    "  <center><img src=\"https://www.bogotobogo.com/python/scikit-learn/images/features/iris-data-set.png\" width=\"400\"></center>\n",
    "</div>\n",
    "\n",
    "<div>\n",
    "  <center><a href=\"https://www.bogotobogo.com/python/scikit-learn/scikit_machine_learning_features_extraction.php\"><i>[Fig. 2] - Iris Flowers measurement </i></a></center>\n",
    "</div>"
   ]
  },
  {
   "cell_type": "markdown",
   "metadata": {},
   "source": [
    "The iris flower dataset was originally collected by the botanist Edgar Anderson in the 1930s and later popularized by the statistician Ronald Fisher in his seminal paper on discriminant analysis. The dataset is sometimes referred to as Anderson's Iris dataset, as Anderson collected it to quantify the morphological variations among three closely related Iris species. Anderson ensured that all of the samples were collected from the same pasture on the Gaspé Peninsula, on the same day, and measured at the same time by the same person using the same apparatus [[]](https://rpubs.com/AjinkyaUC/Iris_DataSet)."
   ]
  },
  {
   "cell_type": "markdown",
   "metadata": {},
   "source": [
    "Since then, the dataset has become a classic example in the field of data science, and it is frequently used in introductory courses and textbooks. It is a simple and well-understood dataset, making it a popular choice for teaching and research purposes, providing an excellent opportunity to explore different aspects of data analysis and visualization.\n",
    "\n",
    "The dataset is widely available and can be accessed freely on the UCI website [[]](https://archive.ics.uci.edu/dataset/53/iris)."
   ]
  },
  {
   "cell_type": "markdown",
   "metadata": {},
   "source": [
    "### 2. import the dataset \n",
    "\n",
    "#### Import the datased on a pandas dataframe\n",
    "\n",
    "The dataset need to be imported. On this project I decide to use the UCI website suggestion on import the dataset in python [[]](https://archive.ics.uci.edu/dataset/53/iris). \n"
   ]
  },
  {
   "cell_type": "code",
   "execution_count": 1,
   "metadata": {},
   "outputs": [],
   "source": [
    "import pandas as pd\n",
    "# https://www.angela1c.com/projects/iris_project/downloading-iris/\n",
    "csv_url = 'https://archive.ics.uci.edu/ml/machine-learning-databases/iris/iris.data'\n",
    "      # using the attribute information as the column names\n",
    "col_names = ['Sepal_Length','Sepal_Width','Petal_Length','Petal_Width','Species']\n",
    "iris =  pd.read_csv(csv_url, names = col_names)"
   ]
  },
  {
   "cell_type": "markdown",
   "metadata": {},
   "source": [
    "[[]](https://datagy.io/pandas-replace-values/)"
   ]
  },
  {
   "cell_type": "code",
   "execution_count": 2,
   "metadata": {},
   "outputs": [
    {
     "data": {
      "text/html": [
       "<div>\n",
       "<style scoped>\n",
       "    .dataframe tbody tr th:only-of-type {\n",
       "        vertical-align: middle;\n",
       "    }\n",
       "\n",
       "    .dataframe tbody tr th {\n",
       "        vertical-align: top;\n",
       "    }\n",
       "\n",
       "    .dataframe thead th {\n",
       "        text-align: right;\n",
       "    }\n",
       "</style>\n",
       "<table border=\"1\" class=\"dataframe\">\n",
       "  <thead>\n",
       "    <tr style=\"text-align: right;\">\n",
       "      <th></th>\n",
       "      <th>Sepal_Length</th>\n",
       "      <th>Sepal_Width</th>\n",
       "      <th>Petal_Length</th>\n",
       "      <th>Petal_Width</th>\n",
       "      <th>Species</th>\n",
       "    </tr>\n",
       "  </thead>\n",
       "  <tbody>\n",
       "    <tr>\n",
       "      <th>0</th>\n",
       "      <td>5.1</td>\n",
       "      <td>3.5</td>\n",
       "      <td>1.4</td>\n",
       "      <td>0.2</td>\n",
       "      <td>Setosa</td>\n",
       "    </tr>\n",
       "    <tr>\n",
       "      <th>1</th>\n",
       "      <td>4.9</td>\n",
       "      <td>3.0</td>\n",
       "      <td>1.4</td>\n",
       "      <td>0.2</td>\n",
       "      <td>Setosa</td>\n",
       "    </tr>\n",
       "    <tr>\n",
       "      <th>2</th>\n",
       "      <td>4.7</td>\n",
       "      <td>3.2</td>\n",
       "      <td>1.3</td>\n",
       "      <td>0.2</td>\n",
       "      <td>Setosa</td>\n",
       "    </tr>\n",
       "    <tr>\n",
       "      <th>3</th>\n",
       "      <td>4.6</td>\n",
       "      <td>3.1</td>\n",
       "      <td>1.5</td>\n",
       "      <td>0.2</td>\n",
       "      <td>Setosa</td>\n",
       "    </tr>\n",
       "    <tr>\n",
       "      <th>4</th>\n",
       "      <td>5.0</td>\n",
       "      <td>3.6</td>\n",
       "      <td>1.4</td>\n",
       "      <td>0.2</td>\n",
       "      <td>Setosa</td>\n",
       "    </tr>\n",
       "    <tr>\n",
       "      <th>...</th>\n",
       "      <td>...</td>\n",
       "      <td>...</td>\n",
       "      <td>...</td>\n",
       "      <td>...</td>\n",
       "      <td>...</td>\n",
       "    </tr>\n",
       "    <tr>\n",
       "      <th>145</th>\n",
       "      <td>6.7</td>\n",
       "      <td>3.0</td>\n",
       "      <td>5.2</td>\n",
       "      <td>2.3</td>\n",
       "      <td>Virginica</td>\n",
       "    </tr>\n",
       "    <tr>\n",
       "      <th>146</th>\n",
       "      <td>6.3</td>\n",
       "      <td>2.5</td>\n",
       "      <td>5.0</td>\n",
       "      <td>1.9</td>\n",
       "      <td>Virginica</td>\n",
       "    </tr>\n",
       "    <tr>\n",
       "      <th>147</th>\n",
       "      <td>6.5</td>\n",
       "      <td>3.0</td>\n",
       "      <td>5.2</td>\n",
       "      <td>2.0</td>\n",
       "      <td>Virginica</td>\n",
       "    </tr>\n",
       "    <tr>\n",
       "      <th>148</th>\n",
       "      <td>6.2</td>\n",
       "      <td>3.4</td>\n",
       "      <td>5.4</td>\n",
       "      <td>2.3</td>\n",
       "      <td>Virginica</td>\n",
       "    </tr>\n",
       "    <tr>\n",
       "      <th>149</th>\n",
       "      <td>5.9</td>\n",
       "      <td>3.0</td>\n",
       "      <td>5.1</td>\n",
       "      <td>1.8</td>\n",
       "      <td>Virginica</td>\n",
       "    </tr>\n",
       "  </tbody>\n",
       "</table>\n",
       "<p>150 rows × 5 columns</p>\n",
       "</div>"
      ],
      "text/plain": [
       "     Sepal_Length  Sepal_Width  Petal_Length  Petal_Width    Species\n",
       "0             5.1          3.5           1.4          0.2     Setosa\n",
       "1             4.9          3.0           1.4          0.2     Setosa\n",
       "2             4.7          3.2           1.3          0.2     Setosa\n",
       "3             4.6          3.1           1.5          0.2     Setosa\n",
       "4             5.0          3.6           1.4          0.2     Setosa\n",
       "..            ...          ...           ...          ...        ...\n",
       "145           6.7          3.0           5.2          2.3  Virginica\n",
       "146           6.3          2.5           5.0          1.9  Virginica\n",
       "147           6.5          3.0           5.2          2.0  Virginica\n",
       "148           6.2          3.4           5.4          2.3  Virginica\n",
       "149           5.9          3.0           5.1          1.8  Virginica\n",
       "\n",
       "[150 rows x 5 columns]"
      ]
     },
     "execution_count": 2,
     "metadata": {},
     "output_type": "execute_result"
    }
   ],
   "source": [
    "# replace the 3 spieces with a more friendly name \n",
    "iris[\"Species\"].replace(to_replace=\"Iris-setosa\", value=\"Setosa\", inplace=True)\n",
    "iris[\"Species\"].replace(to_replace=\"Iris-versicolor\", value=\"Versicolor\", inplace=True)\n",
    "iris[\"Species\"].replace(to_replace=\"Iris-virginica\", value=\"Virginica\", inplace=True)\n",
    "iris\n",
    "\n"
   ]
  },
  {
   "cell_type": "markdown",
   "metadata": {},
   "source": [
    "### 3. Explore and Cleaning of the Dataset"
   ]
  },
  {
   "cell_type": "markdown",
   "metadata": {},
   "source": [
    "Once the dataset have been imported and formatted in the needed way, we will need to explore it and prepare it for analysis. \n",
    "\n",
    "https://www.geeksforgeeks.org/python-pandas-dataframe-series-head-method/"
   ]
  },
  {
   "cell_type": "code",
   "execution_count": 4,
   "metadata": {},
   "outputs": [
    {
     "name": "stdout",
     "output_type": "stream",
     "text": [
      "==== First 5 line of the dataset ==== \n",
      " \n",
      "\n",
      "   Sepal_Length  Sepal_Width  Petal_Length  Petal_Width Species\n",
      "0           5.1          3.5           1.4          0.2  Setosa\n",
      "1           4.9          3.0           1.4          0.2  Setosa\n",
      "2           4.7          3.2           1.3          0.2  Setosa\n",
      "3           4.6          3.1           1.5          0.2  Setosa\n",
      "4           5.0          3.6           1.4          0.2  Setosa\n",
      " \n",
      "\n"
     ]
    }
   ],
   "source": [
    "# checking the first 5 line of the dataset to see if the format fit\n",
    "print(\"==== First 5 line of the dataset ==== \\n \\n\")\n",
    "print(str(iris.head())+'\\n \\n')"
   ]
  },
  {
   "cell_type": "markdown",
   "metadata": {},
   "source": [
    "https://www.geeksforgeeks.org/exploratory-data-analysis-on-iris-dataset/"
   ]
  },
  {
   "cell_type": "code",
   "execution_count": null,
   "metadata": {},
   "outputs": [],
   "source": [
    "# print unique value on the the species colume to check no duplicate and that the replace has been done correctly \n",
    "print(\"==== Print unique value of species ==== \\n \\n\")\n",
    "unique_species = pd.unique(iris['Species'])\n",
    "print(\"Species\\n \\n\")\n",
    "for species in unique_species:\n",
    "        f.write(species)\n",
    "        f.write(\"\\n\")\n",
    "print(\"\\n\")"
   ]
  },
  {
   "cell_type": "code",
   "execution_count": 34,
   "metadata": {},
   "outputs": [
    {
     "data": {
      "text/html": [
       "<div>\n",
       "<style scoped>\n",
       "    .dataframe tbody tr th:only-of-type {\n",
       "        vertical-align: middle;\n",
       "    }\n",
       "\n",
       "    .dataframe tbody tr th {\n",
       "        vertical-align: top;\n",
       "    }\n",
       "\n",
       "    .dataframe thead th {\n",
       "        text-align: right;\n",
       "    }\n",
       "</style>\n",
       "<table border=\"1\" class=\"dataframe\">\n",
       "  <thead>\n",
       "    <tr style=\"text-align: right;\">\n",
       "      <th></th>\n",
       "      <th>Species</th>\n",
       "      <th>Sepal_Length</th>\n",
       "      <th>Sepal_Width</th>\n",
       "      <th>Petal_Length</th>\n",
       "      <th>Petal_Width</th>\n",
       "    </tr>\n",
       "  </thead>\n",
       "  <tbody>\n",
       "    <tr>\n",
       "      <th>0</th>\n",
       "      <td>Setosa</td>\n",
       "      <td>50</td>\n",
       "      <td>50</td>\n",
       "      <td>50</td>\n",
       "      <td>50</td>\n",
       "    </tr>\n",
       "    <tr>\n",
       "      <th>1</th>\n",
       "      <td>Versicolor</td>\n",
       "      <td>50</td>\n",
       "      <td>50</td>\n",
       "      <td>50</td>\n",
       "      <td>50</td>\n",
       "    </tr>\n",
       "    <tr>\n",
       "      <th>2</th>\n",
       "      <td>Virginica</td>\n",
       "      <td>50</td>\n",
       "      <td>50</td>\n",
       "      <td>50</td>\n",
       "      <td>50</td>\n",
       "    </tr>\n",
       "  </tbody>\n",
       "</table>\n",
       "</div>"
      ],
      "text/plain": [
       "      Species  Sepal_Length  Sepal_Width  Petal_Length  Petal_Width\n",
       "0      Setosa            50           50            50           50\n",
       "1  Versicolor            50           50            50           50\n",
       "2   Virginica            50           50            50           50"
      ]
     },
     "execution_count": 34,
     "metadata": {},
     "output_type": "execute_result"
    }
   ],
   "source": [
    "iris.groupby('Species').count().reset_index()"
   ]
  },
  {
   "cell_type": "markdown",
   "metadata": {},
   "source": [
    "https://www.geeksforgeeks.org/exploratory-data-analysis-on-iris-dataset/"
   ]
  },
  {
   "cell_type": "code",
   "execution_count": 39,
   "metadata": {},
   "outputs": [
    {
     "name": "stdout",
     "output_type": "stream",
     "text": [
      "==== Checking missing value ==== \n",
      " \n",
      "\n",
      "Sepal_Length    0\n",
      "Sepal_Width     0\n",
      "Petal_Length    0\n",
      "Petal_Width     0\n",
      "Species         0\n",
      "dtype: int64\n",
      " \n",
      "\n"
     ]
    }
   ],
   "source": [
    "# checking missing value\n",
    "print(\"==== Checking missing value ==== \\n \\n\")\n",
    "print (str(iris.isnull().sum())+'\\n \\n')  "
   ]
  },
  {
   "cell_type": "code",
   "execution_count": 38,
   "metadata": {},
   "outputs": [
    {
     "name": "stdout",
     "output_type": "stream",
     "text": [
      "==== Shape of the dataset ==== \n",
      " \n",
      "\n",
      "Number of rows: 150\n",
      "\n",
      "Number of columns: 5\n",
      "\n",
      "Size: 750\n",
      "\n",
      "Columns: Sepal_Length, Sepal_Width, Petal_Length, Petal_Width, Species\n",
      "\n",
      "\n",
      "Species\n",
      "Setosa        50\n",
      "Versicolor    50\n",
      "Virginica     50\n",
      "Name: count, dtype: int64\n",
      "\n",
      "\n"
     ]
    }
   ],
   "source": [
    "# shape of the datased\n",
    "print(\"==== Shape of the dataset ==== \\n \\n\")\n",
    "print(\"Number of rows: {}\\n\".format(iris.shape[0]))\n",
    "print(\"Number of columns: {}\\n\".format(iris.shape[1]))\n",
    "print(\"Size: {}\\n\".format(iris.size))\n",
    "print(\"Columns: {}\\n\\n\".format(\", \".join(iris.columns)))\n",
    "print(str(iris.value_counts(\"Species\"))+'\\n\\n')"
   ]
  },
  {
   "cell_type": "code",
   "execution_count": 47,
   "metadata": {},
   "outputs": [
    {
     "name": "stdout",
     "output_type": "stream",
     "text": [
      "==== Data type ==== \n",
      "\n",
      "Attribute \t Type \n",
      "\n",
      "Sepal_Length    float64\n",
      "Sepal_Width     float64\n",
      "Petal_Length    float64\n",
      "Petal_Width     float64\n",
      "Species          object\n",
      "dtype: object\n",
      "\n",
      "\n"
     ]
    }
   ],
   "source": [
    "# get the data type \n",
    "print(\"==== Data type ==== \\n\")\n",
    "print(\"Attribute \\t Type \\n\")\n",
    "print(str(iris.dtypes)+'\\n\\n') "
   ]
  },
  {
   "cell_type": "markdown",
   "metadata": {},
   "source": []
  },
  {
   "cell_type": "markdown",
   "metadata": {},
   "source": [
    "Statistics"
   ]
  },
  {
   "cell_type": "code",
   "execution_count": 6,
   "metadata": {},
   "outputs": [
    {
     "name": "stdout",
     "output_type": "stream",
     "text": [
      "==== Statistics ==== \n",
      " \n",
      "\n",
      "       Sepal_Length  Sepal_Width  Petal_Length  Petal_Width\n",
      "count    150.000000   150.000000    150.000000   150.000000\n",
      "mean       5.843333     3.054000      3.758667     1.198667\n",
      "std        0.828066     0.433594      1.764420     0.763161\n",
      "min        4.300000     2.000000      1.000000     0.100000\n",
      "25%        5.100000     2.800000      1.600000     0.300000\n",
      "50%        5.800000     3.000000      4.350000     1.300000\n",
      "75%        6.400000     3.300000      5.100000     1.800000\n",
      "max        7.900000     4.400000      6.900000     2.500000\n",
      "\n",
      "\n"
     ]
    }
   ],
   "source": [
    "# get statistics \n",
    "print(\"==== Statistics ==== \\n \\n\")\n",
    "print(str(iris.describe())+'\\n\\n') "
   ]
  },
  {
   "cell_type": "markdown",
   "metadata": {},
   "source": [
    "https://learnpython.com/blog/how-to-summarize-data-in-python/\n",
    "https://www.w3schools.com/python/pandas/ref_df_agg.asp\n"
   ]
  },
  {
   "cell_type": "code",
   "execution_count": 7,
   "metadata": {},
   "outputs": [
    {
     "name": "stdout",
     "output_type": "stream",
     "text": [
      "==== Sepal_Length Statistics ====\n",
      "\n",
      "\n",
      "             mean  median       std  min  max\n",
      "Species                                      \n",
      "Setosa      5.006     5.0  0.352490  4.3  5.8\n",
      "Versicolor  5.936     5.9  0.516171  4.9  7.0\n",
      "Virginica   6.588     6.5  0.635880  4.9  7.9\n",
      "\n",
      "\n",
      "==== Sepal_Width Statistics ====\n",
      "\n",
      "\n",
      "             mean  median       std  min  max\n",
      "Species                                      \n",
      "Setosa      3.418     3.4  0.381024  2.3  4.4\n",
      "Versicolor  2.770     2.8  0.313798  2.0  3.4\n",
      "Virginica   2.974     3.0  0.322497  2.2  3.8\n",
      "\n",
      "\n",
      "==== Petal_Length Statistics ====\n",
      "\n",
      "\n",
      "             mean  median       std  min  max\n",
      "Species                                      \n",
      "Setosa      1.464    1.50  0.173511  1.0  1.9\n",
      "Versicolor  4.260    4.35  0.469911  3.0  5.1\n",
      "Virginica   5.552    5.55  0.551895  4.5  6.9\n",
      "\n",
      "\n",
      "==== Petal_Width Statistics ====\n",
      "\n",
      "\n",
      "             mean  median       std  min  max\n",
      "Species                                      \n",
      "Setosa      0.244     0.2  0.107210  0.1  0.6\n",
      "Versicolor  1.326     1.3  0.197753  1.0  1.8\n",
      "Virginica   2.026     2.0  0.274650  1.4  2.5\n",
      "\n",
      "\n"
     ]
    }
   ],
   "source": [
    "# get an user more friendly view of the statistics \n",
    "# for loop to print for each species the varaible mean, median, std, min, max \n",
    "for column in iris.columns[:-1]:\n",
    "    print(f\"==== {column} Statistics ====\\n\\n\")\n",
    "    print(f\"{iris.groupby('Species')[column].agg(['mean', 'median', 'std', 'min', 'max'])}\\n\\n\")"
   ]
  },
  {
   "cell_type": "markdown",
   "metadata": {},
   "source": [
    "https://stackoverflow.com/questions/55009203/how-does-pandas-calculate-quartiles"
   ]
  },
  {
   "cell_type": "code",
   "execution_count": 9,
   "metadata": {},
   "outputs": [
    {
     "name": "stdout",
     "output_type": "stream",
     "text": [
      "==== Quartiles per species ==== \n",
      " \n",
      "\n",
      "                 Sepal_Length  Sepal_Width  Petal_Length  Petal_Width\n",
      "Species                                                              \n",
      "Setosa     0.25         4.800        3.125         1.400          0.2\n",
      "           0.50         5.000        3.400         1.500          0.2\n",
      "           0.75         5.200        3.675         1.575          0.3\n",
      "Versicolor 0.25         5.600        2.525         4.000          1.2\n",
      "           0.50         5.900        2.800         4.350          1.3\n",
      "           0.75         6.300        3.000         4.600          1.5\n",
      "Virginica  0.25         6.225        2.800         5.100          1.8\n",
      "           0.50         6.500        3.000         5.550          2.0\n",
      "           0.75         6.900        3.175         5.875          2.3\n",
      "\n",
      "\n"
     ]
    }
   ],
   "source": [
    "# get quartile per species \n",
    "print(\"==== Quartiles per species ==== \\n \\n\")\n",
    "print(str(iris.groupby('Species').quantile([0.25, 0.50, 0.75]))+'\\n\\n')   "
   ]
  },
  {
   "cell_type": "markdown",
   "metadata": {},
   "source": [
    "***\n",
    "\n",
    "### End"
   ]
  },
  {
   "cell_type": "markdown",
   "metadata": {},
   "source": []
  }
 ],
 "metadata": {
  "kernelspec": {
   "display_name": "base",
   "language": "python",
   "name": "python3"
  },
  "language_info": {
   "codemirror_mode": {
    "name": "ipython",
    "version": 3
   },
   "file_extension": ".py",
   "mimetype": "text/x-python",
   "name": "python",
   "nbconvert_exporter": "python",
   "pygments_lexer": "ipython3",
   "version": "3.11.4"
  },
  "orig_nbformat": 4
 },
 "nbformat": 4,
 "nbformat_minor": 2
}
