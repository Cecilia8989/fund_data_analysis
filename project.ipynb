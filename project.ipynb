{
 "cells": [
  {
   "cell_type": "markdown",
   "metadata": {},
   "source": [
    "# Fundamentals of Data Analysis - Project \n",
    "\n",
    "**Author: Cecilia Pastore**\n",
    "\n",
    "***\n"
   ]
  },
  {
   "cell_type": "markdown",
   "metadata": {},
   "source": [
    "### 1. Introduction"
   ]
  },
  {
   "cell_type": "markdown",
   "metadata": {},
   "source": [
    "<details>\n",
    "    <summary>Task requested:</summary>\n",
    "           <p>\n",
    "           \n",
    "Project\n",
    "\n",
    "• The project is to create a notebook investigating the variables and data points within the well-known iris flower data set associated with Ronald A Fisher.\n",
    "\n",
    "• In the notebook, you should discuss the classification of each variable within the data set according to common variable types and scales of measurement in mathematics, statistics, and Python.\n",
    "\n",
    "• Select, demonstrate, and explain the most appropriate summary statistics to describe each variable.\n",
    "\n",
    "• Select, demonstrate, and explain the most appropriate plot(s) for each variable.\n",
    "\n",
    "• The notebook should follow a cohesive narrative about the data set.\n"
   ]
  },
  {
   "cell_type": "markdown",
   "metadata": {},
   "source": [
    "### 2. Irish Flower Dataset"
   ]
  },
  {
   "cell_type": "markdown",
   "metadata": {},
   "source": [
    "The iris flower dataset is a well-known dataset in the field of data science, and it is often used to illustrate basic data analysis, visualization techniques and machine learning . The Iris Dataset is considered as the \"Hello World\" for data science."
   ]
  },
  {
   "cell_type": "markdown",
   "metadata": {},
   "source": [
    "<div>\n",
    "  <center><img src=\"https://machinelearninghd.com/wp-content/uploads/2021/03/iris-dataset.png\" width=\"600\"></center>\n",
    "</div>\n",
    "\n",
    "<div>\n",
    "  <center><a href=\"https://machinelearninghd.com/iris-dataset-uci-machine-learning-repository-project/\"><i>[Fig. 1] - Iris Flowers </i></a></center>\n",
    "</div>"
   ]
  },
  {
   "cell_type": "markdown",
   "metadata": {},
   "source": [
    "The dataset contains measurements of the sepal length, sepal width, petal length, and petal width for 150 iris flowers belonging to three different species: Iris setosa, Iris versicolor, and Iris virginica. Fifty samples are collected for each species with no null value."
   ]
  },
  {
   "cell_type": "markdown",
   "metadata": {},
   "source": [
    "The iris flower dataset was originally collected by the botanist Edgar Anderson in the 1930s and later popularized by the statistician Ronald Fisher in his seminal paper on discriminant analysis. The dataset is sometimes referred to as Anderson's Iris dataset, as Anderson collected it to quantify the morphological variations among three closely related Iris species. Anderson ensured that all of the samples were collected from the same pasture on the Gaspé Peninsula, on the same day, and measured at the same time by the same person using the same apparatus [[]](https://rpubs.com/AjinkyaUC/Iris_DataSet)."
   ]
  },
  {
   "cell_type": "markdown",
   "metadata": {},
   "source": [
    "Since then, the dataset has become a classic example in the field of data science, and it is frequently used in introductory courses and textbooks. It is a simple and well-understood dataset, making it a popular choice for teaching and research purposes, providing an excellent opportunity to explore different aspects of data analysis and visualization.\n",
    "\n",
    "The dataset is widely available and can be accessed freely on the UCI website [[]](https://archive.ics.uci.edu/dataset/53/iris)."
   ]
  },
  {
   "cell_type": "markdown",
   "metadata": {},
   "source": [
    "### 2. import, explore and cleaning the dataset.\n",
    "\n",
    "**Import the needed libraries**\n",
    "\n",
    "As a first step, We wiil need to import the needed libraries for the script:\n",
    "\n",
    "- Pandas: A Python library simplifying data manipulation, offering user-friendly data structures and tools for reading, cleaning, analyzing, and visualizing structured data, making it an essential choice for data handling and analysis tasks. Pandas is commonly used in various fields for its efficiency and versatility. [[]](https://pandas.pydata.org/)."
   ]
  },
  {
   "cell_type": "code",
   "execution_count": 4,
   "metadata": {},
   "outputs": [],
   "source": [
    "# import the needed libraries \n",
    "import pandas as pd"
   ]
  },
  {
   "cell_type": "markdown",
   "metadata": {},
   "source": [
    "#### 2.1 Import the datased on a pandas dataframe\n",
    "\n",
    "The dataset need to be imported. This Python script employs the Pandas library to access the Iris dataset from a designated URL [[]](https://archive.ics.uci.edu/ml/machine-learning-databases/iris/iris.data), structuring the data into a tabular format known as a DataFrame, using the function read_csv(). It explicitly labels the columns with predefined names for easier manipulation, analysis, and exploration of the dataset within the Python environment."
   ]
  },
  {
   "cell_type": "code",
   "execution_count": 5,
   "metadata": {},
   "outputs": [],
   "source": [
    "# https://www.angela1c.com/projects/iris_project/downloading-iris/\n",
    "# Define as a variable and URL pointing to the Iris dataset\n",
    "csv_url = 'https://gist.githubusercontent.com/netj/8836201/raw/6f9306ad21398ea43cba4f7d537619d0e07d5ae3/iris.csv'\n",
    "\n",
    "# Read the data from the URL and assign column names\n",
    "iris = pd.read_csv(csv_url)\n",
    "\n",
    "# Column names for the datasetDD\n",
    "col_names = ['Sepal_Length', 'Sepal_Width', 'Petal_Length', 'Petal_Width', 'Species']\n",
    "\n",
    "#https://www.geeksforgeeks.org/how-to-rename-columns-in-pandas-dataframe/\n",
    "iris.columns = col_names"
   ]
  },
  {
   "cell_type": "markdown",
   "metadata": {},
   "source": [
    "The code uses the **.replace()** function to update the \"Species\" column in the Iris dataset. It changes long names like 'Iris-setosa' to 'Setosa', 'Iris-versicolor' to 'Versicolor', and 'Iris-virginica' to 'Virginica. These changes make the dataset easier to read and work with, improving how we analyze the information without changing the core data [[]](https://datagy.io/pandas-replace-values/)."
   ]
  },
  {
   "cell_type": "code",
   "execution_count": 6,
   "metadata": {},
   "outputs": [],
   "source": [
    "# Replacing the species names with more user-friendly names in the \"Species\" column\n",
    "\n",
    "# Replace 'Iris-setosa' with 'Setosa' in the \"Species\" column\n",
    "iris[\"Species\"].replace(to_replace=\"Iris-setosa\", value=\"Setosa\", inplace=True)\n",
    "# Replace 'Iris-versicolor' with 'Versicolor' in the \"Species\" column\n",
    "iris[\"Species\"].replace(to_replace=\"Iris-versicolor\", value=\"Versicolor\", inplace=True)\n",
    "# Replace 'Iris-virginica' with 'Virginica' in the \"Species\" column\n",
    "iris[\"Species\"].replace(to_replace=\"Iris-virginica\", value=\"Virginica\", inplace=True)"
   ]
  },
  {
   "cell_type": "markdown",
   "metadata": {},
   "source": [
    "#### 2.2 Explore and Cleaning of the Dataframe"
   ]
  },
  {
   "cell_type": "markdown",
   "metadata": {},
   "source": [
    "Once the dataset have been imported and formatted in the needed way, we will need to explore it and prepare it for analysis. \n",
    "\n",
    "https://www.geeksforgeeks.org/python-pandas-dataframe-series-head-method/"
   ]
  },
  {
   "cell_type": "code",
   "execution_count": 7,
   "metadata": {},
   "outputs": [
    {
     "name": "stdout",
     "output_type": "stream",
     "text": [
      "==== First 5 line of the dataset ==== \n",
      " \n",
      "\n",
      "   Sepal_Length  Sepal_Width  Petal_Length  Petal_Width Species\n",
      "0           5.1          3.5           1.4          0.2  Setosa\n",
      "1           4.9          3.0           1.4          0.2  Setosa\n",
      "2           4.7          3.2           1.3          0.2  Setosa\n",
      "3           4.6          3.1           1.5          0.2  Setosa\n",
      "4           5.0          3.6           1.4          0.2  Setosa\n",
      " \n",
      "\n"
     ]
    }
   ],
   "source": [
    "# checking the first 5 line of the dataset to see if the format fit\n",
    "print(\"==== First 5 line of the dataset ==== \\n \\n\")\n",
    "print(str(iris.head())+'\\n \\n')"
   ]
  },
  {
   "cell_type": "code",
   "execution_count": 8,
   "metadata": {},
   "outputs": [
    {
     "name": "stdout",
     "output_type": "stream",
     "text": [
      "==== Print unique value of species ==== \n",
      " \n",
      "\n",
      "Species\n",
      "-------\n",
      "Setosa\n",
      "Versicolor\n",
      "Virginica\n",
      "\n",
      "\n"
     ]
    }
   ],
   "source": [
    "# print unique value on the the species colume to check no duplicate and that the replace has been done correctly \n",
    "print(\"==== Print unique value of species ==== \\n \\n\")\n",
    "unique_species = pd.unique(iris['Species'])\n",
    "print(\"Species\")\n",
    "print(\"-------\")\n",
    "for species in unique_species:\n",
    "        print(species)\n",
    "        \n",
    "print(\"\\n\")"
   ]
  },
  {
   "cell_type": "code",
   "execution_count": 9,
   "metadata": {},
   "outputs": [
    {
     "data": {
      "text/html": [
       "<div>\n",
       "<style scoped>\n",
       "    .dataframe tbody tr th:only-of-type {\n",
       "        vertical-align: middle;\n",
       "    }\n",
       "\n",
       "    .dataframe tbody tr th {\n",
       "        vertical-align: top;\n",
       "    }\n",
       "\n",
       "    .dataframe thead th {\n",
       "        text-align: right;\n",
       "    }\n",
       "</style>\n",
       "<table border=\"1\" class=\"dataframe\">\n",
       "  <thead>\n",
       "    <tr style=\"text-align: right;\">\n",
       "      <th></th>\n",
       "      <th>Species</th>\n",
       "      <th>Sepal_Length</th>\n",
       "      <th>Sepal_Width</th>\n",
       "      <th>Petal_Length</th>\n",
       "      <th>Petal_Width</th>\n",
       "    </tr>\n",
       "  </thead>\n",
       "  <tbody>\n",
       "    <tr>\n",
       "      <th>0</th>\n",
       "      <td>Setosa</td>\n",
       "      <td>50</td>\n",
       "      <td>50</td>\n",
       "      <td>50</td>\n",
       "      <td>50</td>\n",
       "    </tr>\n",
       "    <tr>\n",
       "      <th>1</th>\n",
       "      <td>Versicolor</td>\n",
       "      <td>50</td>\n",
       "      <td>50</td>\n",
       "      <td>50</td>\n",
       "      <td>50</td>\n",
       "    </tr>\n",
       "    <tr>\n",
       "      <th>2</th>\n",
       "      <td>Virginica</td>\n",
       "      <td>50</td>\n",
       "      <td>50</td>\n",
       "      <td>50</td>\n",
       "      <td>50</td>\n",
       "    </tr>\n",
       "  </tbody>\n",
       "</table>\n",
       "</div>"
      ],
      "text/plain": [
       "      Species  Sepal_Length  Sepal_Width  Petal_Length  Petal_Width\n",
       "0      Setosa            50           50            50           50\n",
       "1  Versicolor            50           50            50           50\n",
       "2   Virginica            50           50            50           50"
      ]
     },
     "execution_count": 9,
     "metadata": {},
     "output_type": "execute_result"
    }
   ],
   "source": [
    "iris.groupby('Species').count().reset_index()"
   ]
  },
  {
   "cell_type": "markdown",
   "metadata": {},
   "source": [
    "https://www.geeksforgeeks.org/exploratory-data-analysis-on-iris-dataset/"
   ]
  },
  {
   "cell_type": "code",
   "execution_count": 10,
   "metadata": {},
   "outputs": [
    {
     "name": "stdout",
     "output_type": "stream",
     "text": [
      "==== Checking missing value ==== \n",
      " \n",
      "\n",
      "Sepal_Length    0\n",
      "Sepal_Width     0\n",
      "Petal_Length    0\n",
      "Petal_Width     0\n",
      "Species         0\n",
      "dtype: int64\n",
      " \n",
      "\n"
     ]
    }
   ],
   "source": [
    "# checking missing value\n",
    "print(\"==== Checking missing value ==== \\n \\n\")\n",
    "print (str(iris.isnull().sum())+'\\n \\n')  "
   ]
  },
  {
   "cell_type": "code",
   "execution_count": 11,
   "metadata": {},
   "outputs": [
    {
     "name": "stdout",
     "output_type": "stream",
     "text": [
      "==== Shape of the dataset ==== \n",
      " \n",
      "\n",
      "Number of rows: 150\n",
      "\n",
      "Number of columns: 5\n",
      "\n",
      "Size: 750\n",
      "\n",
      "Columns: Sepal_Length, Sepal_Width, Petal_Length, Petal_Width, Species\n",
      "\n",
      "\n",
      "Species\n",
      "Setosa        50\n",
      "Versicolor    50\n",
      "Virginica     50\n",
      "Name: count, dtype: int64\n",
      "\n",
      "\n"
     ]
    }
   ],
   "source": [
    "# shape of the datased\n",
    "print(\"==== Shape of the dataset ==== \\n \\n\")\n",
    "print(\"Number of rows: {}\\n\".format(iris.shape[0]))\n",
    "print(\"Number of columns: {}\\n\".format(iris.shape[1]))\n",
    "print(\"Size: {}\\n\".format(iris.size))\n",
    "print(\"Columns: {}\\n\\n\".format(\", \".join(iris.columns)))\n",
    "print(str(iris.value_counts(\"Species\"))+'\\n\\n')"
   ]
  },
  {
   "cell_type": "markdown",
   "metadata": {},
   "source": [
    "### 3. Type of variables.\n",
    "\n",
    "The IRS dataset includes information on different aspects of iris flowers. There are five variables:\n",
    "\n",
    "- *Sepal_Length*: This records the length of the sepals in the flowers in cm. Sepals are the outer parts of a flower, usually green and leaf-like.\n",
    "- *Sepal_Width*: Similar to Sepal_Length, this variable captures the width of the sepals in cm.\n",
    "- *Petal_Length*: This variable notes the length of the petals in cm, which are the inner, often colorful parts of a flower.\n",
    "- *Petal_Width*: Similar to Petal_Length, this variable documents the width of the petals in cm.\n",
    "- *Species*: This variable categorizes the type of iris species. It's a categorical variable, indicating which specific species of iris the measurements belong to. This categorical variable include species like setosa, versicolor, and virginica. "
   ]
  },
  {
   "cell_type": "markdown",
   "metadata": {},
   "source": [
    "<div>\n",
    "  <center><img src=\"https://www.bogotobogo.com/python/scikit-learn/images/features/iris-data-set.png\" width=\"400\"></center>\n",
    "</div>\n",
    "\n",
    "<div>\n",
    "  <center><a href=\"https://www.bogotobogo.com/python/scikit-learn/scikit_machine_learning_features_extraction.php\"><i>[Fig. 2] - Iris Flowers measurement </i></a></center>\n",
    "</div>"
   ]
  },
  {
   "cell_type": "markdown",
   "metadata": {},
   "source": [
    "#### 3.1 Type of variables - classification \n",
    "\n",
    "Here a summary of the calssification of each variable in the Iris dataset:\n",
    "\n",
    "| Variables      | Type |\n",
    "| -------------- | ----- |\n",
    "| Sepal_Length    | Numerical-Continuos-Ratio   |\n",
    "| Sepal_Width       | Numerical-Continuos-Ratio    |\n",
    "| Petal_Length   | Numerical-Continuos-Ratio    |\n",
    "| Petal_Width    | Numerical-Continuos-Ratio  |\n",
    "| Species     | Categorical - Nominal     |"
   ]
  },
  {
   "cell_type": "markdown",
   "metadata": {},
   "source": [
    "The first classification is between Cathegorical data and Numerical data [[]](https://www.k2analytics.co.in/statistics-types-of-variables/).\n",
    "\n",
    "**Categorical Data**:\n",
    "\n",
    "Categorical data categorizes qualities or characteristics into distinct groups. It's often non-numeric, representing attributes rather than quantities. This type of data can be subdivided into:\n",
    "\n",
    "- Nominal: These labels represent categories without inherent quantitative meaning or relative order. Examples include colors, types of cars, or gender.\n",
    "- Ordinal: Values represent categories with a relative order or ranking among them. While lacking quantitative significance, they exhibit a defined order, such as satisfaction levels (e.g., \"low,\" \"medium,\" \"high\").\n",
    "\n",
    "**Numerical Data**:\n",
    "\n",
    "Numerical data quantifies and measures values using numbers. It can be further categorized into:\n",
    "\n",
    "1. Discrete Variable: These take distinct, separate values without intermediate points. For instance, the count of items, like the number of transactions made by a customer on a given day.\n",
    "2. Continuos Variable: These variables can take any value within a range. There are two types within continuous variables:\n",
    "    - Interval Ratio Variables: Quantitative variables without inherent meaningful ratios and lacking a defined zero point, such as temperatures in Celsius or Fahrenheit.\n",
    "    - Ratio Variables: Quantitative variables with meaningful value ratios and a clear zero point, like the age of individuals or account balances."
   ]
  },
  {
   "cell_type": "markdown",
   "metadata": {},
   "source": [
    "<div>\n",
    "  <center><img src=\"https://www.k2analytics.co.in/wp-content/uploads/2020/04/Capture-1024x418.png\" width=\"400\"></center>\n",
    "</div>\n",
    "\n",
    "<div>\n",
    "  <center><a href=\"https://www.k2analytics.co.in/statistics-types-of-variables/\"><i>[Fig. 3] - Variables classification </i></a></center>\n",
    "</div>"
   ]
  },
  {
   "cell_type": "markdown",
   "metadata": {},
   "source": [
    "    - Species \n",
    "\n",
    "The *Species* variable in the dataset represents the different species that are the subjects of observation.\n",
    "\n",
    "The Species variable is categorized as a categorical variable and, more specifically, as a nominal categorical variable. This is because it represents different, unrelated categories without any inherent order or ranking among them. Each species, whether it's Setosa, Versicolor, or Virginica, is treated as a distinct and separate category with equal standing in the dataset.\n",
    "\n",
    "    - Sepal_Length/Sepal_Width/Petal_Length/Petal_Width.\n",
    "\n",
    "These variables represent specific measurements of the iris flowers. \n",
    "They are numerical, continuous, and ratio variables. \n",
    "These measurements are continuous, meaning they can include fractional or decimal values, and they fall under the category of ratio variables because their measurements hold a meaningful zero point and the ratios between the values are significant in their interpretation and analysis."
   ]
  },
  {
   "cell_type": "markdown",
   "metadata": {},
   "source": [
    "#### 3.2 Type of variables - Python Data types \n",
    "\n",
    "Summary:\n",
    "\n",
    " Variables      | Python | Pandas | Numpy |\n",
    " -------------- | ----- |----- |----- |\n",
    " Species   | String/Object | Categorical/Object | String/Object |\n",
    "  Sepal_Length  | Float | Float64 | Float64 |\n",
    " Sepal_Width| Float | Float64 | Float64 |\n",
    " Petal_Length| Float | Float64 | Float64 |\n",
    "  Petal_Width | Float | Float64 | Float64 |\n",
    "\n",
    "In Python, each variable is associated with a specific data type, categorizing the information it represents and dictating how it should be handled in the program. This classification determines the operations that can be executed on the variable and influences its memory storage.\n",
    "\n",
    "When working with Python libraries like NumPy and Pandas, the concept of data types extends beyond the native Python types. These libraries introduce their own specialized data structures and types, optimizing the handling of large datasets and providing additional functionalities not available in standard Python. \n",
    "\n",
    "In Python, each data type has a singular representation [[]](https://docs.python.org/3/library/stdtypes.html).\n",
    "\n",
    "<div>\n",
    "  <center><img src=\"https://media.geeksforgeeks.org/wp-content/uploads/20191023173512/Python-data-structure.jpg\" width=\"400\"></center>\n",
    "</div>\n",
    "\n",
    "<div>\n",
    "  <center><a href=\"https://www.geeksforgeeks.org/python-data-types//\"><i>[Fig. 4] - Python Data type </i></a></center>\n",
    "</div>\n",
    "\n",
    " NumPy expands on this by providing an extensive range of numerical types beyond Python's defaults; for instance, multiple float types are available. \n",
    " \n",
    "<br/>\n",
    "<br/>\n",
    "<div>\n",
    "  <center><img src=\"https://www.simplifiedpython.net/wp-content/uploads/2018/11/Python-NumPy-768x472.jpg\" width=\"400\"></center>\n",
    "</div>\n",
    "<br/>\n",
    "<br/>\n",
    "<div>\n",
    "  <center><a href=\"https://www.simplifiedpython.net/python-numpy/\"><i>[Fig. 5] - Numpy Data Types</i></a></center>\n",
    "</div>\n",
    "<br/>\n",
    " \n",
    "  Lastly, Pandas specializes in handling structured data by offering DataFrames, enabling efficient manipulation, analysis, and exploration of tabular datasets with diverse data types within the same structure.\n",
    "\n",
    "  <br/>\n",
    "<br/>\n",
    "<div>\n",
    "  <center><img src=\"https://pbpython.com/images/pandas_dtypes.png\" width=\"400\"></center>\n",
    "</div>\n",
    "<br/>\n",
    "<br/>\n",
    "<div>\n",
    "  <center><a href=\"https://pbpython.com/pandas_dtypes.html\"><i>[Fig. 6] - Overview of Data types</i></a></center>\n",
    "</div>\n",
    "\n",
    "\n",
    "\n"
   ]
  },
  {
   "cell_type": "markdown",
   "metadata": {},
   "source": [
    "To uncover the automatic data type classification of each variable, we can begin by inspecting the types assigned by Pandas. This can be easily accomplished by employing the .dtype() function for a swift examination."
   ]
  },
  {
   "cell_type": "code",
   "execution_count": 12,
   "metadata": {},
   "outputs": [
    {
     "data": {
      "text/plain": [
       "Sepal_Length    float64\n",
       "Sepal_Width     float64\n",
       "Petal_Length    float64\n",
       "Petal_Width     float64\n",
       "Species          object\n",
       "dtype: object"
      ]
     },
     "execution_count": 12,
     "metadata": {},
     "output_type": "execute_result"
    }
   ],
   "source": [
    "iris.dtypes"
   ]
  },
  {
   "cell_type": "markdown",
   "metadata": {},
   "source": [
    "In Pandas, the .dtype() function automatically assigns the 'object' data type. 'Object' represents a mixed data type capable of containing various data types as float and string. We can now delve into exploring the specific data types for each variable in the dataset.\n",
    "\n",
    "***Species***\n",
    "\n",
    "Summary:\n",
    "\n",
    " Variables      | Python | Pandas | Numpy |\n",
    " -------------- | ----- |----- |----- |\n",
    " Species   | String/Object | Categorical/Object | String/Object |\n",
    "\n",
    "- Pandas\n",
    "\n",
    "The **Species** variable represents a categorical nominal variable with three distinct outputs. **Pandas** introduces a specialized data type named **Categorical**, created to manage variables with a restricted set of unique values. This exclusive data type significantly makes it much easier to organize and work with this type of categorical data in datasets, focusing on using memory efficiently\n",
    "\n",
    "On the other hand, the **Object** data type in Pandas is more versatile, accommodating various data structures, including textual data, and allowing mixed or diverse data types within a column. While providing flexibility, the 'object' type may not deliver the same memory and computational efficiencies as the specican yofically designed categorical data types.\n",
    "\n",
    "- Numpy\n",
    "\n",
    "In **NumPy**, for non-numeric categorical variables like the 'Species' variable, both the **Object** and **String** data types are applicable for their representation. The 'Object' type offers versatility, accommodating diverse values. On the other hand, the 'String' data type is particularly efficient in managing textual information but is more suitable for fixed-size string data. In this context, as the variable as threee fixed output, the 'String' type might be initially suitable, yet the 'Object' type is also viable. Additionally, we can employ the unicode string. Unicode Strings follow a standardized encoding, permitting a broader range of characters beyond just ASCII, making it a favorable choice, especially when optimizing memory isn't the primary consideration [[]](https://numpy.org/doc/stable/reference/arrays.dtypes.html#arrays-dtypes).\n",
    "\n",
    "- Python \n",
    "\n",
    "In **Python***, the best data type to represent this kind of categorical information is the **string** data type. This is because the species names are textual and don't involve numerical operations. Storing the species names as strings allows for easy handling and identification of different categories within the dataset. Alternatevely, the **object** data type can also be employed. The object type in Python is a more generic type that can hold any data type, including strings. It offers flexibility, allowing for the storage of not just strings but potentially other data types within the same column or variable.\n",
    "\n",
    "***Sepal_Length, Sepal_Width, Petal_Length and Petal_Width***\n",
    "\n",
    "Summary: \n",
    " Variables      | Python | Pandas | Numpy |\n",
    " -------------- | ----- |----- |----- |\n",
    " Sepal_Length  | Float | Float64 | Float64 |\n",
    " Sepal_Width| Float | Float64 | Float64 |\n",
    " Petal_Length| Float | Float64 | Float64 |\n",
    "  Petal_Width | Float | Float64 | Float64 |\n",
    "\n",
    "As explained before those variables represent specific measurement about irish flower and they are Numerical, continuos and ratio variables. \n",
    "\n",
    "   - Pandas\n",
    "\n",
    "Since they are floating-point numbers with a meaningful zero, the Pandas datatype that better applies to all four variables is float. As we have no specific reason to opt for a different bit format, I will suggest **float64**. This is also the datatype automatically assigned by Pandas if we interrogate the dataframe with the dtype() function.\n",
    "\n",
    "-  Numpy \n",
    "\n",
    "Similar to pandas the datatype that better apply to flot numbers is float and in this specific case **float64**. \n",
    "\n",
    "-  Phyton\n",
    "\n",
    "Finally, in Python, the most appropriate datatype for floating-point numbers is **float**.\n"
   ]
  },
  {
   "cell_type": "markdown",
   "metadata": {},
   "source": [
    "### 4. Statistic"
   ]
  },
  {
   "cell_type": "code",
   "execution_count": null,
   "metadata": {},
   "outputs": [],
   "source": []
  },
  {
   "cell_type": "markdown",
   "metadata": {},
   "source": [
    "https://www.geeksforgeeks.org/exploratory-data-analysis-on-iris-dataset/"
   ]
  },
  {
   "cell_type": "code",
   "execution_count": 13,
   "metadata": {},
   "outputs": [
    {
     "name": "stdout",
     "output_type": "stream",
     "text": [
      "==== Data type ==== \n",
      "\n",
      "Attribute \t Type \n",
      "\n",
      "Sepal_Length    float64\n",
      "Sepal_Width     float64\n",
      "Petal_Length    float64\n",
      "Petal_Width     float64\n",
      "Species          object\n",
      "dtype: object\n",
      "\n",
      "\n"
     ]
    }
   ],
   "source": [
    "# get the data type \n",
    "print(\"==== Data type ==== \\n\")\n",
    "print(\"Attribute \\t Type \\n\")\n",
    "print(str(iris.dtypes)+'\\n\\n') "
   ]
  },
  {
   "cell_type": "markdown",
   "metadata": {},
   "source": [
    "### 4. Statistics of Iris dataset's varlables"
   ]
  },
  {
   "cell_type": "markdown",
   "metadata": {},
   "source": [
    "https://realpython.com/python-statistics/#dataframes\n",
    "https://www.statology.org/pandas-describe-categorical/\n",
    "https://www.w3resource.com/machine-learning/scikit-learn/iris/python-machine-learning-scikit-learn-iris-visualization-exercise-1.php"
   ]
  },
  {
   "cell_type": "markdown",
   "metadata": {},
   "source": [
    "A necessary aspect of working with data is the ability to describe, summarize, and represent data. An useful tool for this is statistics. Statistics is a branch of mathematics that involves collecting, analyzing, interpreting, presenting, and organizing data. It provides methods for making inferences about the characteristics of a population based on a sample, as well as assessing the uncertainty associated with those inferences. Several statistics can be calculated based on the type of data. We will know examine them based on the iris dataset variables \n",
    "\n",
    "#### 4.1  Species - Categorical Variable \n",
    "\n",
    "When dealing with categorical data, various statistics become particularly useful.\n",
    "\n",
    " Statistics   | Describtion | \n",
    " -------------- | ----- |\n",
    " count| the number of observations in each category |\n",
    " unique| the number of distinct categories in the dataset |\n",
    " top| the most frequent category in the dataset |\n",
    "freq| A table that shows the number of observations in each category|\n"
   ]
  },
  {
   "cell_type": "code",
   "execution_count": 14,
   "metadata": {},
   "outputs": [
    {
     "name": "stdout",
     "output_type": "stream",
     "text": [
      "==== Statistics of Species ====\n",
      "\n",
      "count        150\n",
      "unique         3\n",
      "top       Setosa\n",
      "freq          50\n",
      "Name: Species, dtype: object\n"
     ]
    }
   ],
   "source": [
    "#https://www.statology.org/pandas-describe-categorical/\n",
    "#calculate descriptive statistics for categorical variables only\n",
    "print(\"==== Statistics of Species ====\\n\")\n",
    "print(iris['Species'].describe(include=object))"
   ]
  },
  {
   "cell_type": "markdown",
   "metadata": {},
   "source": [
    "As we can see, the iris dataset contain three species with 50 observation each. The total observation is, consequently, 150."
   ]
  },
  {
   "cell_type": "markdown",
   "metadata": {},
   "source": [
    "#### 4.1  Sepal_Length, Sepal_Width, Petal_Length and Petal_Width - Numerical/countinuos/ratio variable "
   ]
  },
  {
   "cell_type": "markdown",
   "metadata": {},
   "source": [
    "https://www.statology.org/descriptive-inferential-statistics/\n",
    "https://www.statology.org/pandas-describe-percentiles/\n",
    "https://www.w3resource.com/pandas/dataframe/dataframe-describe.php\n",
    "https://www.geeksforgeeks.org/python-pandas-dataframe-describe-method/\n",
    "https://datagy.io/pandas-describe/\n"
   ]
  },
  {
   "cell_type": "markdown",
   "metadata": {},
   "source": [
    "Sepal_Length, Sepal_Width, Petal_Length and Petal_Widt are float number. To describe the characteristic of a dataset,considering numerical data, those are the statistics commonly used:\n",
    "\n",
    " Statistics   | Describtion | \n",
    " -------------- | ----- |\n",
    " Mean| Represents the central tendency or typical value of a set of numbers. It is the sum of all values divided by the total number of values. |\n",
    " Median| The middle value in a dataset when it is ordered from least to greatest.Provides a measure of central tendency. Unlike the mean, it is not affected by extreme values (outliers). |\n",
    " Standard Deviation| Measures the amount of variation or dispersion in a set of values. A higher standard deviation indicates greater variability. |\n",
    "Minimum and Maximum| The smallest and largest values in a dataset, respectively. Identifies the range of values spanned by the dataset.|\n",
    " Percentiles| The value below which a given percentage of observations fall. For example, the 25th percentile is the value below which 25% of the data falls.|"
   ]
  },
  {
   "cell_type": "markdown",
   "metadata": {},
   "source": [
    "First we can explore the statistic on species on their whole using the describe() function [[]](https://datascienceparichay.com/article/pandas-dataframe-describe-function/)."
   ]
  },
  {
   "cell_type": "code",
   "execution_count": 15,
   "metadata": {},
   "outputs": [
    {
     "name": "stdout",
     "output_type": "stream",
     "text": [
      "==== Statistics ==== \n",
      " \n",
      "\n",
      "       Sepal_Length  Sepal_Width  Petal_Length  Petal_Width\n",
      "count    150.000000   150.000000    150.000000   150.000000\n",
      "mean       5.843333     3.057333      3.758000     1.199333\n",
      "std        0.828066     0.435866      1.765298     0.762238\n",
      "min        4.300000     2.000000      1.000000     0.100000\n",
      "25%        5.100000     2.800000      1.600000     0.300000\n",
      "50%        5.800000     3.000000      4.350000     1.300000\n",
      "75%        6.400000     3.300000      5.100000     1.800000\n",
      "max        7.900000     4.400000      6.900000     2.500000\n",
      "\n",
      "\n"
     ]
    }
   ],
   "source": [
    "# get statistics \n",
    "print(\"==== Statistics ==== \\n \\n\")\n",
    "print(str(iris.describe())+'\\n\\n') "
   ]
  },
  {
   "cell_type": "markdown",
   "metadata": {},
   "source": [
    "As expected, the count of each observation is 150. Considering the mean, Petal Width has the lowest, and Sepal Length has the highest average values. Regarding the measure of the amount of variation or dispersion for each variable, Sepal Length and Petal Width exhibit the highest standard deviation, while the lowest is observed for Sepal Width. The smallest variation is noted for Petal Width, followed by Sepal Width, Petal Length, and Sepal Length. A similar trend is observed for the largest values of each variable.\n",
    "\n",
    "Speaking about percentiles, these values provide insights into the distribution of each variable. The 25th percentilensignifies the value below which 25% of the data falls. For all variables, Petal Width has the lowest 25th percentile, followed by Petal Length, Sepal Width and Sepal Length. The 50th percentile, also known as the median, represents the middle value in the dataset. Once again, Petal Width has the smallest median, followed by Sepal Width, Petal Length and Sepal Length.\n",
    "\n",
    "Moving to the 75th percentile, which denotes the value below which 75% of the data falls, Petal Width maintains the trend of having the smallest value, succeeded by Sepal Width, Petal Length, and Sepal Length. \n",
    "\n",
    "We can now take a look to each statistics per Species."
   ]
  },
  {
   "cell_type": "markdown",
   "metadata": {},
   "source": [
    "https://learnpython.com/blog/how-to-summarize-data-in-python/\n",
    "https://www.w3schools.com/python/pandas/ref_df_agg.asp\n",
    "https://www.geeksforgeeks.org/pandas-groupby-one-column-and-get-mean-min-and-max-values/\n"
   ]
  },
  {
   "cell_type": "code",
   "execution_count": 16,
   "metadata": {},
   "outputs": [
    {
     "name": "stdout",
     "output_type": "stream",
     "text": [
      "==== Sepal_Length Statistics ====\n",
      "             mean  median       std  min  max\n",
      "Species                                      \n",
      "Setosa      5.006     5.0  0.352490  4.3  5.8\n",
      "Versicolor  5.936     5.9  0.516171  4.9  7.0\n",
      "Virginica   6.588     6.5  0.635880  4.9  7.9\n",
      "\n",
      "==== Sepal_Width Statistics ====\n",
      "             mean  median       std  min  max\n",
      "Species                                      \n",
      "Setosa      3.428     3.4  0.379064  2.3  4.4\n",
      "Versicolor  2.770     2.8  0.313798  2.0  3.4\n",
      "Virginica   2.974     3.0  0.322497  2.2  3.8\n",
      "\n",
      "==== Petal_Length Statistics ====\n",
      "             mean  median       std  min  max\n",
      "Species                                      \n",
      "Setosa      1.462    1.50  0.173664  1.0  1.9\n",
      "Versicolor  4.260    4.35  0.469911  3.0  5.1\n",
      "Virginica   5.552    5.55  0.551895  4.5  6.9\n",
      "\n",
      "==== Petal_Width Statistics ====\n",
      "             mean  median       std  min  max\n",
      "Species                                      \n",
      "Setosa      0.246     0.2  0.105386  0.1  0.6\n",
      "Versicolor  1.326     1.3  0.197753  1.0  1.8\n",
      "Virginica   2.026     2.0  0.274650  1.4  2.5\n",
      "\n"
     ]
    }
   ],
   "source": [
    "# Obtain the mean, median, std, min, max for each species \n",
    "# for loop to print for each species the varaible mean, median, std, min, max \n",
    "for column in iris.columns[:-1]:\n",
    "    print(f\"==== {column} Statistics ====\")\n",
    "    print(f\"{iris.groupby('Species')[column].agg(['mean', 'median', 'std', 'min', 'max'])}\\n\")"
   ]
  },
  {
   "cell_type": "markdown",
   "metadata": {},
   "source": [
    "https://stackoverflow.com/questions/55009203/how-does-pandas-calculate-quartiles\n",
    "https://stackoverflow.com/questions/66017922/pandas-group-by-column-to-generate-quantiles-25-0-5-75"
   ]
  },
  {
   "cell_type": "code",
   "execution_count": 17,
   "metadata": {},
   "outputs": [
    {
     "name": "stdout",
     "output_type": "stream",
     "text": [
      "==== Quartiles per species ==== \n",
      " \n",
      "\n",
      "                 Sepal_Length  Sepal_Width  Petal_Length  Petal_Width\n",
      "Species                                                              \n",
      "Setosa     0.25         4.800        3.200         1.400          0.2\n",
      "           0.50         5.000        3.400         1.500          0.2\n",
      "           0.75         5.200        3.675         1.575          0.3\n",
      "Versicolor 0.25         5.600        2.525         4.000          1.2\n",
      "           0.50         5.900        2.800         4.350          1.3\n",
      "           0.75         6.300        3.000         4.600          1.5\n",
      "Virginica  0.25         6.225        2.800         5.100          1.8\n",
      "           0.50         6.500        3.000         5.550          2.0\n",
      "           0.75         6.900        3.175         5.875          2.3\n",
      "\n",
      "\n"
     ]
    }
   ],
   "source": [
    "# get quartile per species \n",
    "print(\"==== Quartiles per species ==== \\n \\n\")\n",
    "print(str(iris.groupby('Species').quantile([0.25, 0.50, 0.75]))+'\\n\\n')   "
   ]
  },
  {
   "cell_type": "markdown",
   "metadata": {},
   "source": [
    "### 5. Data Visualization \n",
    "\n",
    "#### 5.1 Univariate analysis \n",
    "\n",
    "\n"
   ]
  },
  {
   "cell_type": "code",
   "execution_count": 18,
   "metadata": {},
   "outputs": [
    {
     "data": {
      "text/html": [
       "<div>\n",
       "<style scoped>\n",
       "    .dataframe tbody tr th:only-of-type {\n",
       "        vertical-align: middle;\n",
       "    }\n",
       "\n",
       "    .dataframe tbody tr th {\n",
       "        vertical-align: top;\n",
       "    }\n",
       "\n",
       "    .dataframe thead th {\n",
       "        text-align: right;\n",
       "    }\n",
       "</style>\n",
       "<table border=\"1\" class=\"dataframe\">\n",
       "  <thead>\n",
       "    <tr style=\"text-align: right;\">\n",
       "      <th></th>\n",
       "      <th>Sepal_Length</th>\n",
       "      <th>Sepal_Width</th>\n",
       "      <th>Petal_Length</th>\n",
       "      <th>Petal_Width</th>\n",
       "      <th>Species</th>\n",
       "    </tr>\n",
       "  </thead>\n",
       "  <tbody>\n",
       "    <tr>\n",
       "      <th>0</th>\n",
       "      <td>5.1</td>\n",
       "      <td>3.5</td>\n",
       "      <td>1.4</td>\n",
       "      <td>0.2</td>\n",
       "      <td>Setosa</td>\n",
       "    </tr>\n",
       "    <tr>\n",
       "      <th>1</th>\n",
       "      <td>4.9</td>\n",
       "      <td>3.0</td>\n",
       "      <td>1.4</td>\n",
       "      <td>0.2</td>\n",
       "      <td>Setosa</td>\n",
       "    </tr>\n",
       "    <tr>\n",
       "      <th>2</th>\n",
       "      <td>4.7</td>\n",
       "      <td>3.2</td>\n",
       "      <td>1.3</td>\n",
       "      <td>0.2</td>\n",
       "      <td>Setosa</td>\n",
       "    </tr>\n",
       "    <tr>\n",
       "      <th>3</th>\n",
       "      <td>4.6</td>\n",
       "      <td>3.1</td>\n",
       "      <td>1.5</td>\n",
       "      <td>0.2</td>\n",
       "      <td>Setosa</td>\n",
       "    </tr>\n",
       "    <tr>\n",
       "      <th>4</th>\n",
       "      <td>5.0</td>\n",
       "      <td>3.6</td>\n",
       "      <td>1.4</td>\n",
       "      <td>0.2</td>\n",
       "      <td>Setosa</td>\n",
       "    </tr>\n",
       "    <tr>\n",
       "      <th>...</th>\n",
       "      <td>...</td>\n",
       "      <td>...</td>\n",
       "      <td>...</td>\n",
       "      <td>...</td>\n",
       "      <td>...</td>\n",
       "    </tr>\n",
       "    <tr>\n",
       "      <th>145</th>\n",
       "      <td>6.7</td>\n",
       "      <td>3.0</td>\n",
       "      <td>5.2</td>\n",
       "      <td>2.3</td>\n",
       "      <td>Virginica</td>\n",
       "    </tr>\n",
       "    <tr>\n",
       "      <th>146</th>\n",
       "      <td>6.3</td>\n",
       "      <td>2.5</td>\n",
       "      <td>5.0</td>\n",
       "      <td>1.9</td>\n",
       "      <td>Virginica</td>\n",
       "    </tr>\n",
       "    <tr>\n",
       "      <th>147</th>\n",
       "      <td>6.5</td>\n",
       "      <td>3.0</td>\n",
       "      <td>5.2</td>\n",
       "      <td>2.0</td>\n",
       "      <td>Virginica</td>\n",
       "    </tr>\n",
       "    <tr>\n",
       "      <th>148</th>\n",
       "      <td>6.2</td>\n",
       "      <td>3.4</td>\n",
       "      <td>5.4</td>\n",
       "      <td>2.3</td>\n",
       "      <td>Virginica</td>\n",
       "    </tr>\n",
       "    <tr>\n",
       "      <th>149</th>\n",
       "      <td>5.9</td>\n",
       "      <td>3.0</td>\n",
       "      <td>5.1</td>\n",
       "      <td>1.8</td>\n",
       "      <td>Virginica</td>\n",
       "    </tr>\n",
       "  </tbody>\n",
       "</table>\n",
       "<p>150 rows × 5 columns</p>\n",
       "</div>"
      ],
      "text/plain": [
       "     Sepal_Length  Sepal_Width  Petal_Length  Petal_Width    Species\n",
       "0             5.1          3.5           1.4          0.2     Setosa\n",
       "1             4.9          3.0           1.4          0.2     Setosa\n",
       "2             4.7          3.2           1.3          0.2     Setosa\n",
       "3             4.6          3.1           1.5          0.2     Setosa\n",
       "4             5.0          3.6           1.4          0.2     Setosa\n",
       "..            ...          ...           ...          ...        ...\n",
       "145           6.7          3.0           5.2          2.3  Virginica\n",
       "146           6.3          2.5           5.0          1.9  Virginica\n",
       "147           6.5          3.0           5.2          2.0  Virginica\n",
       "148           6.2          3.4           5.4          2.3  Virginica\n",
       "149           5.9          3.0           5.1          1.8  Virginica\n",
       "\n",
       "[150 rows x 5 columns]"
      ]
     },
     "execution_count": 18,
     "metadata": {},
     "output_type": "execute_result"
    }
   ],
   "source": [
    "iris"
   ]
  },
  {
   "cell_type": "code",
   "execution_count": 24,
   "metadata": {},
   "outputs": [
    {
     "name": "stderr",
     "output_type": "stream",
     "text": [
      "C:\\Users\\anton\\AppData\\Local\\Temp\\ipykernel_20644\\2381140460.py:8: FutureWarning: \n",
      "\n",
      "Passing `palette` without assigning `hue` is deprecated and will be removed in v0.14.0. Assign the `x` variable to `hue` and set `legend=False` for the same effect.\n",
      "\n",
      "  sns.countplot(x='Species', data=iris, palette='viridis', ax=ax1)\n"
     ]
    },
    {
     "data": {
      "image/png": "[encoded data removed]",
      "text/plain": [
       "<Figure size 1500x600 with 2 Axes>"
      ]
     },
     "metadata": {},
     "output_type": "display_data"
    }
   ],
   "source": [
    "import seaborn as sns\n",
    "import matplotlib.pyplot as plt\n",
    "\n",
    "# Create a figure with two subplots side by side\n",
    "fig, (ax1, ax2) = plt.subplots(1, 2, figsize=(15, 6))\n",
    "\n",
    "# Plot a countplot on the first subplot (ax1)\n",
    "sns.countplot(x='Species', data=iris, palette='viridis', ax=ax1)\n",
    "\n",
    "# Add labels to the bars in the countplot\n",
    "for label in ax1.containers:\n",
    "    ax1.bar_label(label)\n",
    "\n",
    "# Set labels for the first subplot\n",
    "ax1.set_xlabel('Violence Occurred')\n",
    "ax1.set_ylabel('Count')\n",
    "\n",
    "\n",
    "# create a pie chart to show the distribution of species \n",
    "# get the count of each species\n",
    "group_count= iris['Species'].value_counts()\n",
    "# define the labels of the pie chart\n",
    "labels= iris['Species'].unique()\n",
    "\n",
    "# set the parameters of the pie chart\n",
    "ax2.pie(group_count, labels=labels, autopct='%1.0f%%', \n",
    "        textprops={'fontsize': 14, 'fontweight': 'bold'},\n",
    "        wedgeprops={'linewidth': 2, 'edgecolor': 'white', 'alpha':0.7})\n",
    "\n",
    "# create a white cirle to have the donut effect \n",
    "centre_circle= plt.Circle((0,0),0.40,color='white', fc='white',linewidth=1.00)\n",
    "fig = plt.gcf()\n",
    "fig.gca().add_artist(centre_circle)\n",
    "plt.axis('equal')\n",
    "\n",
    "# Adjust layout to prevent clipping of titles\n",
    "plt.tight_layout(rect=[0, 0, 1, 0.96])\n",
    "\n",
    "# Add a title to the entire figure\n",
    "fig.suptitle('Distribution of Violence Occurrence', fontsize=16)\n",
    "\n",
    "# Display the plot\n",
    "plt.show()"
   ]
  },
  {
   "cell_type": "markdown",
   "metadata": {},
   "source": [
    "***\n",
    "\n",
    "### End"
   ]
  },
  {
   "cell_type": "markdown",
   "metadata": {},
   "source": []
  }
 ],
 "metadata": {
  "kernelspec": {
   "display_name": "base",
   "language": "python",
   "name": "python3"
  },
  "language_info": {
   "codemirror_mode": {
    "name": "ipython",
    "version": 3
   },
   "file_extension": ".py",
   "mimetype": "text/x-python",
   "name": "python",
   "nbconvert_exporter": "python",
   "pygments_lexer": "ipython3",
   "version": "3.11.4"
  },
  "orig_nbformat": 4
 },
 "nbformat": 4,
 "nbformat_minor": 2
}
